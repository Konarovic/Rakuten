{
 "cells": [
  {
   "cell_type": "code",
   "execution_count": 25,
   "metadata": {},
   "outputs": [
    {
     "name": "stdout",
     "output_type": "stream",
     "text": [
      "['/home/thibaud/repos/anaconda/rakuten/notebook', '/home/thibaud/intel/oneapi/intelpython/envs/tensorflow/lib/python39.zip', '/home/thibaud/intel/oneapi/intelpython/envs/tensorflow/lib/python3.9', '/home/thibaud/intel/oneapi/intelpython/envs/tensorflow/lib/python3.9/lib-dynload', '', '/home/thibaud/intel/oneapi/intelpython/envs/tensorflow/lib/python3.9/site-packages', '/home/thibaud/repos/anaconda/rakuten', '/home/thibaud/repos/anaconda/rakuten/src']\n"
     ]
    }
   ],
   "source": [
    "import sys\n",
    "configDir =  '/home/thibaud/repos/anaconda/rakuten/notebook'\n",
    "if configDir not in sys.path:\n",
    "    sys.path.append(configDir)\n",
    "\n",
    "import config\n",
    "\n",
    "print(sys.path)"
   ]
  },
  {
   "cell_type": "code",
   "execution_count": 48,
   "metadata": {},
   "outputs": [
    {
     "name": "stderr",
     "output_type": "stream",
     "text": [
      "/home/thibaud/repos/anaconda/rakuten/src/utils/results.py:52: SettingWithCopyWarning:\n",
      "\n",
      "\n",
      "A value is trying to be set on a copy of a slice from a DataFrame.\n",
      "Try using .loc[row_indexer,col_indexer] = value instead\n",
      "\n",
      "See the caveats in the documentation: https://pandas.pydata.org/pandas-docs/stable/user_guide/indexing.html#returning-a-view-versus-a-copy\n",
      "\n"
     ]
    },
    {
     "data": {
      "application/vnd.plotly.v1+json": {
       "config": {
        "plotlyServerURL": "https://plot.ly"
       },
       "data": [
        {
         "alignmentgroup": "True",
         "hovertemplate": "model=text/flaubert_base_uncased<br>category=%{x}<br>score_test=%{y}<extra></extra>",
         "legendgroup": "text/flaubert_base_uncased",
         "marker": {
          "color": "#636efa",
          "pattern": {
           "shape": ""
          }
         },
         "name": "text/flaubert_base_uncased",
         "offsetgroup": "text/flaubert_base_uncased",
         "orientation": "v",
         "showlegend": true,
         "textposition": "auto",
         "type": "bar",
         "width": 0.2,
         "x": [
          "2905 - Jeux vidéo pour PC",
          "1300 - Jeux techniques",
          "1301 - Vêtements enfant",
          "2583 - Piscines et accessoires",
          "1940 - Confiseries",
          "1160 - Cartes de jeux",
          "2522 - Fournitures de bureau",
          "1920 - Linge de maison",
          "60 - Consoles de jeu",
          "2280 - Magazines occasion",
          "2220 - Animalerie",
          "1560 - Mobilier",
          "50 - Accessoires gaming",
          "2060 - Maison Décoration",
          "1320 - Puériculture",
          "2403 - Livres BD magazines",
          "1140 - Figurines et objet pop culture",
          "2462 - Jeux vidéo occasion",
          "2585 - Outillages de jardin",
          "1302 - Pêche",
          "40 - Jeux vidéo CDs équipement",
          "2582 - Mobilier de jardin",
          "1280 - Jouets enfants",
          "2705 - Livres neufs",
          "1180 - Figurines et jeux de rôle",
          "1281 - Jeux de société enfants",
          "10 - Livres occasion"
         ],
         "xaxis": "x",
         "y": [
          0.9942196531791908,
          0.9846153846153847,
          0.9777777777777777,
          0.9733785091965149,
          0.9597523219814242,
          0.9514443761524278,
          0.9480968858131488,
          0.9277038750722961,
          0.918429003021148,
          0.9103024090210148,
          0.9,
          0.8753768844221105,
          0.8610729023383769,
          0.8605697151424289,
          0.8602654176424668,
          0.8585106382978724,
          0.8396946564885497,
          0.8342440801457196,
          0.8334975369458127,
          0.8174603174603176,
          0.8151848151848152,
          0.8116504854368932,
          0.7971876690102758,
          0.7884615384615384,
          0.7194719471947195,
          0.713064713064713,
          0.6490503715937243
         ],
         "yaxis": "y"
        },
        {
         "alignmentgroup": "True",
         "hovertemplate": "model=text/camembert-base-ccnet<br>category=%{x}<br>score_test=%{y}<extra></extra>",
         "legendgroup": "text/camembert-base-ccnet",
         "marker": {
          "color": "#EF553B",
          "pattern": {
           "shape": ""
          }
         },
         "name": "text/camembert-base-ccnet",
         "offsetgroup": "text/camembert-base-ccnet",
         "orientation": "v",
         "showlegend": true,
         "textposition": "auto",
         "type": "bar",
         "width": 0.2,
         "x": [
          "2905 - Jeux vidéo pour PC",
          "1300 - Jeux techniques",
          "2583 - Piscines et accessoires",
          "1301 - Vêtements enfant",
          "2522 - Fournitures de bureau",
          "1160 - Cartes de jeux",
          "1940 - Confiseries",
          "1920 - Linge de maison",
          "2280 - Magazines occasion",
          "60 - Consoles de jeu",
          "50 - Accessoires gaming",
          "1560 - Mobilier",
          "2220 - Animalerie",
          "1320 - Puériculture",
          "2060 - Maison Décoration",
          "2403 - Livres BD magazines",
          "2462 - Jeux vidéo occasion",
          "2585 - Outillages de jardin",
          "1140 - Figurines et objet pop culture",
          "1302 - Pêche",
          "2582 - Mobilier de jardin",
          "1280 - Jouets enfants",
          "2705 - Livres neufs",
          "40 - Jeux vidéo CDs équipement",
          "1281 - Jeux de société enfants",
          "10 - Livres occasion",
          "1180 - Figurines et jeux de rôle"
         ],
         "xaxis": "x",
         "y": [
          0.9942196531791908,
          0.9822660098522168,
          0.9778319123020707,
          0.9717868338557994,
          0.9481037924151695,
          0.9455445544554456,
          0.9382716049382717,
          0.9301775147928995,
          0.9166666666666667,
          0.9130434782608695,
          0.896551724137931,
          0.8929273084479372,
          0.8895705521472393,
          0.8892405063291139,
          0.873900293255132,
          0.8491854965843405,
          0.8484848484848485,
          0.8483091787439614,
          0.8447319778188539,
          0.8409321175278622,
          0.8362156663275687,
          0.815625,
          0.8054298642533937,
          0.801564027370479,
          0.732919254658385,
          0.6857142857142857,
          0.6711864406779661
         ],
         "yaxis": "y"
        },
        {
         "alignmentgroup": "True",
         "hovertemplate": "model=text/camembert-base<br>category=%{x}<br>score_test=%{y}<extra></extra>",
         "legendgroup": "text/camembert-base",
         "marker": {
          "color": "#00cc96",
          "pattern": {
           "shape": ""
          }
         },
         "name": "text/camembert-base",
         "offsetgroup": "text/camembert-base",
         "orientation": "v",
         "showlegend": true,
         "textposition": "auto",
         "type": "bar",
         "width": 0.2,
         "x": [
          "2905 - Jeux vidéo pour PC",
          "1300 - Jeux techniques",
          "2583 - Piscines et accessoires",
          "1301 - Vêtements enfant",
          "1160 - Cartes de jeux",
          "2522 - Fournitures de bureau",
          "1940 - Confiseries",
          "1920 - Linge de maison",
          "2280 - Magazines occasion",
          "60 - Consoles de jeu",
          "2220 - Animalerie",
          "1560 - Mobilier",
          "50 - Accessoires gaming",
          "1320 - Puériculture",
          "2060 - Maison Décoration",
          "2403 - Livres BD magazines",
          "2585 - Outillages de jardin",
          "2462 - Jeux vidéo occasion",
          "1140 - Figurines et objet pop culture",
          "1302 - Pêche",
          "2582 - Mobilier de jardin",
          "1280 - Jouets enfants",
          "40 - Jeux vidéo CDs équipement",
          "2705 - Livres neufs",
          "1180 - Figurines et jeux de rôle",
          "1281 - Jeux de société enfants",
          "10 - Livres occasion"
         ],
         "xaxis": "x",
         "y": [
          0.9884393063583815,
          0.9861386138613861,
          0.9769361495508618,
          0.9659442724458205,
          0.9567398119122257,
          0.949604743083004,
          0.9386503067484663,
          0.9344167150319209,
          0.917731221257026,
          0.9107692307692308,
          0.9003021148036254,
          0.8998988877654196,
          0.8923959827833573,
          0.871042471042471,
          0.8667628667628667,
          0.8574479444741057,
          0.8515625,
          0.8411552346570396,
          0.8400735294117646,
          0.8310880829015544,
          0.8243512974051895,
          0.8089171974522292,
          0.8031809145129225,
          0.7974683544303797,
          0.7553956834532373,
          0.73,
          0.6816
         ],
         "yaxis": "y"
        },
        {
         "alignmentgroup": "True",
         "hovertemplate": "model=text/SVC_skipgram<br>category=%{x}<br>score_test=%{y}<extra></extra>",
         "legendgroup": "text/SVC_skipgram",
         "marker": {
          "color": "#ab63fa",
          "pattern": {
           "shape": ""
          }
         },
         "name": "text/SVC_skipgram",
         "offsetgroup": "text/SVC_skipgram",
         "orientation": "v",
         "showlegend": true,
         "textposition": "auto",
         "type": "bar",
         "width": 0.2,
         "x": [
          "2905 - Jeux vidéo pour PC",
          "1301 - Vêtements enfant",
          "1940 - Confiseries",
          "2220 - Animalerie",
          "2583 - Piscines et accessoires",
          "60 - Consoles de jeu",
          "2522 - Fournitures de bureau",
          "1160 - Cartes de jeux",
          "1920 - Linge de maison",
          "50 - Accessoires gaming",
          "1300 - Jeux techniques",
          "2280 - Magazines occasion",
          "2462 - Jeux vidéo occasion",
          "2585 - Outillages de jardin",
          "1320 - Puériculture",
          "1302 - Pêche",
          "1140 - Figurines et objet pop culture",
          "1560 - Mobilier",
          "2582 - Mobilier de jardin",
          "2060 - Maison Décoration",
          "1180 - Figurines et jeux de rôle",
          "2403 - Livres BD magazines",
          "2705 - Livres neufs",
          "1281 - Jeux de société enfants",
          "40 - Jeux vidéo CDs équipement",
          "1280 - Jouets enfants",
          "10 - Livres occasion"
         ],
         "xaxis": "x",
         "y": [
          0.9799428289082204,
          0.9676184213715129,
          0.957971734234022,
          0.940645207672013,
          0.9362224134681085,
          0.9319886609724941,
          0.90402191225781,
          0.900412887413163,
          0.8911471120407883,
          0.8530101367166393,
          0.8517020156324565,
          0.8379232858571433,
          0.8342867108497496,
          0.8167562460409473,
          0.8115830723213783,
          0.7821962348758613,
          0.7631258365700139,
          0.7615190053622708,
          0.7606141259962482,
          0.7604517810223372,
          0.7593753974986143,
          0.7451647405429944,
          0.7431999252114541,
          0.6978134410530279,
          0.6802620944473784,
          0.58220458774224,
          0.5218043577763853
         ],
         "yaxis": "y"
        },
        {
         "alignmentgroup": "True",
         "hovertemplate": "model=text/SVC_cbow<br>category=%{x}<br>score_test=%{y}<extra></extra>",
         "legendgroup": "text/SVC_cbow",
         "marker": {
          "color": "#FFA15A",
          "pattern": {
           "shape": ""
          }
         },
         "name": "text/SVC_cbow",
         "offsetgroup": "text/SVC_cbow",
         "orientation": "v",
         "showlegend": true,
         "textposition": "auto",
         "type": "bar",
         "width": 0.2,
         "x": [
          "2905 - Jeux vidéo pour PC",
          "1940 - Confiseries",
          "2583 - Piscines et accessoires",
          "60 - Consoles de jeu",
          "1301 - Vêtements enfant",
          "1920 - Linge de maison",
          "2220 - Animalerie",
          "2522 - Fournitures de bureau",
          "1160 - Cartes de jeux",
          "50 - Accessoires gaming",
          "2280 - Magazines occasion",
          "1300 - Jeux techniques",
          "2462 - Jeux vidéo occasion",
          "2585 - Outillages de jardin",
          "1180 - Figurines et jeux de rôle",
          "1302 - Pêche",
          "2582 - Mobilier de jardin",
          "1320 - Puériculture",
          "2705 - Livres neufs",
          "2060 - Maison Décoration",
          "1560 - Mobilier",
          "1140 - Figurines et objet pop culture",
          "2403 - Livres BD magazines",
          "1281 - Jeux de société enfants",
          "40 - Jeux vidéo CDs équipement",
          "1280 - Jouets enfants",
          "10 - Livres occasion"
         ],
         "xaxis": "x",
         "y": [
          0.9660955767442208,
          0.9143145225604792,
          0.9041057102576119,
          0.9036424261511747,
          0.8913227730288353,
          0.8866007792702758,
          0.8844151489847353,
          0.8567063644814922,
          0.8418208164713615,
          0.8306598440391625,
          0.8132655140931806,
          0.8058555503161788,
          0.7758751350704013,
          0.7713437620600025,
          0.7658702992446714,
          0.75370305749009,
          0.7518631912531207,
          0.7418713850255488,
          0.7406430567064433,
          0.740601442552581,
          0.7398002776529539,
          0.6927455964835273,
          0.6703097929753813,
          0.6180122615200975,
          0.6042097495558065,
          0.5413783820057012,
          0.47378335720291676
         ],
         "yaxis": "y"
        },
        {
         "alignmentgroup": "True",
         "hovertemplate": "model=text/xgboost_cbow<br>category=%{x}<br>score_test=%{y}<extra></extra>",
         "legendgroup": "text/xgboost_cbow",
         "marker": {
          "color": "#19d3f3",
          "pattern": {
           "shape": ""
          }
         },
         "name": "text/xgboost_cbow",
         "offsetgroup": "text/xgboost_cbow",
         "orientation": "v",
         "showlegend": true,
         "textposition": "auto",
         "type": "bar",
         "width": 0.2,
         "x": [
          "2905 - Jeux vidéo pour PC",
          "1301 - Vêtements enfant",
          "1940 - Confiseries",
          "2583 - Piscines et accessoires",
          "60 - Consoles de jeu",
          "1920 - Linge de maison",
          "2220 - Animalerie",
          "2522 - Fournitures de bureau",
          "1160 - Cartes de jeux",
          "2280 - Magazines occasion",
          "2462 - Jeux vidéo occasion",
          "1180 - Figurines et jeux de rôle",
          "1300 - Jeux techniques",
          "50 - Accessoires gaming",
          "2582 - Mobilier de jardin",
          "2585 - Outillages de jardin",
          "1560 - Mobilier",
          "2705 - Livres neufs",
          "1302 - Pêche",
          "1140 - Figurines et objet pop culture",
          "1320 - Puériculture",
          "2060 - Maison Décoration",
          "2403 - Livres BD magazines",
          "1281 - Jeux de société enfants",
          "40 - Jeux vidéo CDs équipement",
          "1280 - Jouets enfants",
          "10 - Livres occasion"
         ],
         "xaxis": "x",
         "y": [
          0.9586958420827056,
          0.9322076251415337,
          0.9190331805443489,
          0.9185443052555273,
          0.914229913668165,
          0.8874365762763731,
          0.8840788137265924,
          0.8450489538428346,
          0.8275438953879859,
          0.8077549927988102,
          0.801416933270125,
          0.7926161928667865,
          0.7893413765628513,
          0.7772307761075639,
          0.7679137677463471,
          0.7480762496234825,
          0.7411839656184386,
          0.7380815487533057,
          0.7230284906534423,
          0.7216303496615869,
          0.7131211293175241,
          0.7114552194037952,
          0.64844685691748,
          0.5866201370058445,
          0.5713290929715823,
          0.5147406938148543,
          0.49711148256548215
         ],
         "yaxis": "y"
        },
        {
         "alignmentgroup": "True",
         "hovertemplate": "model=text/RandomForestClassifier_cbow<br>category=%{x}<br>score_test=%{y}<extra></extra>",
         "legendgroup": "text/RandomForestClassifier_cbow",
         "marker": {
          "color": "#FF6692",
          "pattern": {
           "shape": ""
          }
         },
         "name": "text/RandomForestClassifier_cbow",
         "offsetgroup": "text/RandomForestClassifier_cbow",
         "orientation": "v",
         "showlegend": true,
         "textposition": "auto",
         "type": "bar",
         "width": 0.2,
         "x": [
          "2905 - Jeux vidéo pour PC",
          "1301 - Vêtements enfant",
          "2220 - Animalerie",
          "60 - Consoles de jeu",
          "1940 - Confiseries",
          "2583 - Piscines et accessoires",
          "1920 - Linge de maison",
          "1180 - Figurines et jeux de rôle",
          "2522 - Fournitures de bureau",
          "1160 - Cartes de jeux",
          "2280 - Magazines occasion",
          "1300 - Jeux techniques",
          "50 - Accessoires gaming",
          "2585 - Outillages de jardin",
          "1302 - Pêche",
          "2462 - Jeux vidéo occasion",
          "2705 - Livres neufs",
          "2582 - Mobilier de jardin",
          "2060 - Maison Décoration",
          "1320 - Puériculture",
          "1560 - Mobilier",
          "1140 - Figurines et objet pop culture",
          "2403 - Livres BD magazines",
          "40 - Jeux vidéo CDs équipement",
          "1281 - Jeux de société enfants",
          "10 - Livres occasion",
          "1280 - Jouets enfants"
         ],
         "xaxis": "x",
         "y": [
          0.9583428800472078,
          0.9436549719140686,
          0.9204026908042229,
          0.9169689540740457,
          0.9018750919690497,
          0.9012561478461549,
          0.8887089164548871,
          0.8418110292303904,
          0.8150837306037501,
          0.807182838410805,
          0.7912733975013643,
          0.7809533842202011,
          0.778328622087935,
          0.7761778018992969,
          0.7684023216819331,
          0.752728977875654,
          0.750049076978449,
          0.7460755060896355,
          0.727865380028394,
          0.7191641038388772,
          0.7033847608053956,
          0.679686803914771,
          0.6030100848822411,
          0.599605458069473,
          0.5810993475862926,
          0.4937194302973123,
          0.48992019768989725
         ],
         "yaxis": "y"
        },
        {
         "alignmentgroup": "True",
         "hovertemplate": "model=text/LogisticRegression_skipgram<br>category=%{x}<br>score_test=%{y}<extra></extra>",
         "legendgroup": "text/LogisticRegression_skipgram",
         "marker": {
          "color": "#B6E880",
          "pattern": {
           "shape": ""
          }
         },
         "name": "text/LogisticRegression_skipgram",
         "offsetgroup": "text/LogisticRegression_skipgram",
         "orientation": "v",
         "showlegend": true,
         "textposition": "auto",
         "type": "bar",
         "width": 0.2,
         "x": [
          "1301 - Vêtements enfant",
          "1940 - Confiseries",
          "2905 - Jeux vidéo pour PC",
          "60 - Consoles de jeu",
          "2583 - Piscines et accessoires",
          "2522 - Fournitures de bureau",
          "1920 - Linge de maison",
          "2220 - Animalerie",
          "1160 - Cartes de jeux",
          "1300 - Jeux techniques",
          "2462 - Jeux vidéo occasion",
          "2280 - Magazines occasion",
          "1320 - Puériculture",
          "50 - Accessoires gaming",
          "2585 - Outillages de jardin",
          "1560 - Mobilier",
          "1140 - Figurines et objet pop culture",
          "1302 - Pêche",
          "2060 - Maison Décoration",
          "2705 - Livres neufs",
          "2403 - Livres BD magazines",
          "2582 - Mobilier de jardin",
          "1180 - Figurines et jeux de rôle",
          "40 - Jeux vidéo CDs équipement",
          "1281 - Jeux de société enfants",
          "1280 - Jouets enfants",
          "10 - Livres occasion"
         ],
         "xaxis": "x",
         "y": [
          0.949291419905351,
          0.9318249319906131,
          0.9276176810579224,
          0.914319813783566,
          0.9068956285187874,
          0.8721932797925532,
          0.8694482337789491,
          0.8634012422167292,
          0.8510489645973913,
          0.8240106343906721,
          0.7866669411339485,
          0.7752472672994892,
          0.7645264530693806,
          0.7637412112954214,
          0.7504855143665495,
          0.7359409798968223,
          0.7292512646365841,
          0.7160240977009311,
          0.6925472842715308,
          0.6895482730949766,
          0.6872966693117134,
          0.683692548411987,
          0.6512192666859358,
          0.586589000206708,
          0.5773943238275587,
          0.5340991522390041,
          0.4748633937439429
         ],
         "yaxis": "y"
        },
        {
         "alignmentgroup": "True",
         "hovertemplate": "model=text/LogisticRegression_cbow<br>category=%{x}<br>score_test=%{y}<extra></extra>",
         "legendgroup": "text/LogisticRegression_cbow",
         "marker": {
          "color": "#FF97FF",
          "pattern": {
           "shape": ""
          }
         },
         "name": "text/LogisticRegression_cbow",
         "offsetgroup": "text/LogisticRegression_cbow",
         "orientation": "v",
         "showlegend": true,
         "textposition": "auto",
         "type": "bar",
         "width": 0.2,
         "x": [
          "2905 - Jeux vidéo pour PC",
          "60 - Consoles de jeu",
          "2583 - Piscines et accessoires",
          "1920 - Linge de maison",
          "1940 - Confiseries",
          "1301 - Vêtements enfant",
          "1160 - Cartes de jeux",
          "2522 - Fournitures de bureau",
          "2220 - Animalerie",
          "1300 - Jeux techniques",
          "2280 - Magazines occasion",
          "50 - Accessoires gaming",
          "2462 - Jeux vidéo occasion",
          "1560 - Mobilier",
          "2060 - Maison Décoration",
          "1140 - Figurines et objet pop culture",
          "1320 - Puériculture",
          "2585 - Outillages de jardin",
          "1302 - Pêche",
          "2582 - Mobilier de jardin",
          "2705 - Livres neufs",
          "2403 - Livres BD magazines",
          "1180 - Figurines et jeux de rôle",
          "1281 - Jeux de société enfants",
          "40 - Jeux vidéo CDs équipement",
          "1280 - Jouets enfants",
          "10 - Livres occasion"
         ],
         "xaxis": "x",
         "y": [
          0.8907178582930895,
          0.8778113912025962,
          0.8719819011031804,
          0.8589670307065492,
          0.8521006380980236,
          0.8114902611329615,
          0.79666657167939,
          0.7870290277782287,
          0.777904422066415,
          0.7724797350318671,
          0.7453198601597993,
          0.7432911966511582,
          0.7314601546313255,
          0.697694534698215,
          0.6810160886364446,
          0.6760362337455239,
          0.674902963043419,
          0.6694616080075372,
          0.6567270820881996,
          0.6547691619782203,
          0.6484860286967425,
          0.6452048744501729,
          0.5944298832608644,
          0.5234063365407394,
          0.518388391790047,
          0.48500775700741555,
          0.43341218328174214
         ],
         "yaxis": "y"
        }
       ],
       "layout": {
        "barmode": "group",
        "height": 600,
        "legend": {},
        "margin": {
         "t": 60
        },
        "template": {
         "data": {
          "bar": [
           {
            "error_x": {
             "color": "#2a3f5f"
            },
            "error_y": {
             "color": "#2a3f5f"
            },
            "marker": {
             "line": {
              "color": "#E5ECF6",
              "width": 0.5
             },
             "pattern": {
              "fillmode": "overlay",
              "size": 10,
              "solidity": 0.2
             }
            },
            "type": "bar"
           }
          ],
          "barpolar": [
           {
            "marker": {
             "line": {
              "color": "#E5ECF6",
              "width": 0.5
             },
             "pattern": {
              "fillmode": "overlay",
              "size": 10,
              "solidity": 0.2
             }
            },
            "type": "barpolar"
           }
          ],
          "carpet": [
           {
            "aaxis": {
             "endlinecolor": "#2a3f5f",
             "gridcolor": "white",
             "linecolor": "white",
             "minorgridcolor": "white",
             "startlinecolor": "#2a3f5f"
            },
            "baxis": {
             "endlinecolor": "#2a3f5f",
             "gridcolor": "white",
             "linecolor": "white",
             "minorgridcolor": "white",
             "startlinecolor": "#2a3f5f"
            },
            "type": "carpet"
           }
          ],
          "choropleth": [
           {
            "colorbar": {
             "outlinewidth": 0,
             "ticks": ""
            },
            "type": "choropleth"
           }
          ],
          "contour": [
           {
            "colorbar": {
             "outlinewidth": 0,
             "ticks": ""
            },
            "colorscale": [
             [
              0,
              "#0d0887"
             ],
             [
              0.1111111111111111,
              "#46039f"
             ],
             [
              0.2222222222222222,
              "#7201a8"
             ],
             [
              0.3333333333333333,
              "#9c179e"
             ],
             [
              0.4444444444444444,
              "#bd3786"
             ],
             [
              0.5555555555555556,
              "#d8576b"
             ],
             [
              0.6666666666666666,
              "#ed7953"
             ],
             [
              0.7777777777777778,
              "#fb9f3a"
             ],
             [
              0.8888888888888888,
              "#fdca26"
             ],
             [
              1,
              "#f0f921"
             ]
            ],
            "type": "contour"
           }
          ],
          "contourcarpet": [
           {
            "colorbar": {
             "outlinewidth": 0,
             "ticks": ""
            },
            "type": "contourcarpet"
           }
          ],
          "heatmap": [
           {
            "colorbar": {
             "outlinewidth": 0,
             "ticks": ""
            },
            "colorscale": [
             [
              0,
              "#0d0887"
             ],
             [
              0.1111111111111111,
              "#46039f"
             ],
             [
              0.2222222222222222,
              "#7201a8"
             ],
             [
              0.3333333333333333,
              "#9c179e"
             ],
             [
              0.4444444444444444,
              "#bd3786"
             ],
             [
              0.5555555555555556,
              "#d8576b"
             ],
             [
              0.6666666666666666,
              "#ed7953"
             ],
             [
              0.7777777777777778,
              "#fb9f3a"
             ],
             [
              0.8888888888888888,
              "#fdca26"
             ],
             [
              1,
              "#f0f921"
             ]
            ],
            "type": "heatmap"
           }
          ],
          "heatmapgl": [
           {
            "colorbar": {
             "outlinewidth": 0,
             "ticks": ""
            },
            "colorscale": [
             [
              0,
              "#0d0887"
             ],
             [
              0.1111111111111111,
              "#46039f"
             ],
             [
              0.2222222222222222,
              "#7201a8"
             ],
             [
              0.3333333333333333,
              "#9c179e"
             ],
             [
              0.4444444444444444,
              "#bd3786"
             ],
             [
              0.5555555555555556,
              "#d8576b"
             ],
             [
              0.6666666666666666,
              "#ed7953"
             ],
             [
              0.7777777777777778,
              "#fb9f3a"
             ],
             [
              0.8888888888888888,
              "#fdca26"
             ],
             [
              1,
              "#f0f921"
             ]
            ],
            "type": "heatmapgl"
           }
          ],
          "histogram": [
           {
            "marker": {
             "pattern": {
              "fillmode": "overlay",
              "size": 10,
              "solidity": 0.2
             }
            },
            "type": "histogram"
           }
          ],
          "histogram2d": [
           {
            "colorbar": {
             "outlinewidth": 0,
             "ticks": ""
            },
            "colorscale": [
             [
              0,
              "#0d0887"
             ],
             [
              0.1111111111111111,
              "#46039f"
             ],
             [
              0.2222222222222222,
              "#7201a8"
             ],
             [
              0.3333333333333333,
              "#9c179e"
             ],
             [
              0.4444444444444444,
              "#bd3786"
             ],
             [
              0.5555555555555556,
              "#d8576b"
             ],
             [
              0.6666666666666666,
              "#ed7953"
             ],
             [
              0.7777777777777778,
              "#fb9f3a"
             ],
             [
              0.8888888888888888,
              "#fdca26"
             ],
             [
              1,
              "#f0f921"
             ]
            ],
            "type": "histogram2d"
           }
          ],
          "histogram2dcontour": [
           {
            "colorbar": {
             "outlinewidth": 0,
             "ticks": ""
            },
            "colorscale": [
             [
              0,
              "#0d0887"
             ],
             [
              0.1111111111111111,
              "#46039f"
             ],
             [
              0.2222222222222222,
              "#7201a8"
             ],
             [
              0.3333333333333333,
              "#9c179e"
             ],
             [
              0.4444444444444444,
              "#bd3786"
             ],
             [
              0.5555555555555556,
              "#d8576b"
             ],
             [
              0.6666666666666666,
              "#ed7953"
             ],
             [
              0.7777777777777778,
              "#fb9f3a"
             ],
             [
              0.8888888888888888,
              "#fdca26"
             ],
             [
              1,
              "#f0f921"
             ]
            ],
            "type": "histogram2dcontour"
           }
          ],
          "mesh3d": [
           {
            "colorbar": {
             "outlinewidth": 0,
             "ticks": ""
            },
            "type": "mesh3d"
           }
          ],
          "parcoords": [
           {
            "line": {
             "colorbar": {
              "outlinewidth": 0,
              "ticks": ""
             }
            },
            "type": "parcoords"
           }
          ],
          "pie": [
           {
            "automargin": true,
            "type": "pie"
           }
          ],
          "scatter": [
           {
            "fillpattern": {
             "fillmode": "overlay",
             "size": 10,
             "solidity": 0.2
            },
            "type": "scatter"
           }
          ],
          "scatter3d": [
           {
            "line": {
             "colorbar": {
              "outlinewidth": 0,
              "ticks": ""
             }
            },
            "marker": {
             "colorbar": {
              "outlinewidth": 0,
              "ticks": ""
             }
            },
            "type": "scatter3d"
           }
          ],
          "scattercarpet": [
           {
            "marker": {
             "colorbar": {
              "outlinewidth": 0,
              "ticks": ""
             }
            },
            "type": "scattercarpet"
           }
          ],
          "scattergeo": [
           {
            "marker": {
             "colorbar": {
              "outlinewidth": 0,
              "ticks": ""
             }
            },
            "type": "scattergeo"
           }
          ],
          "scattergl": [
           {
            "marker": {
             "colorbar": {
              "outlinewidth": 0,
              "ticks": ""
             }
            },
            "type": "scattergl"
           }
          ],
          "scattermapbox": [
           {
            "marker": {
             "colorbar": {
              "outlinewidth": 0,
              "ticks": ""
             }
            },
            "type": "scattermapbox"
           }
          ],
          "scatterpolar": [
           {
            "marker": {
             "colorbar": {
              "outlinewidth": 0,
              "ticks": ""
             }
            },
            "type": "scatterpolar"
           }
          ],
          "scatterpolargl": [
           {
            "marker": {
             "colorbar": {
              "outlinewidth": 0,
              "ticks": ""
             }
            },
            "type": "scatterpolargl"
           }
          ],
          "scatterternary": [
           {
            "marker": {
             "colorbar": {
              "outlinewidth": 0,
              "ticks": ""
             }
            },
            "type": "scatterternary"
           }
          ],
          "surface": [
           {
            "colorbar": {
             "outlinewidth": 0,
             "ticks": ""
            },
            "colorscale": [
             [
              0,
              "#0d0887"
             ],
             [
              0.1111111111111111,
              "#46039f"
             ],
             [
              0.2222222222222222,
              "#7201a8"
             ],
             [
              0.3333333333333333,
              "#9c179e"
             ],
             [
              0.4444444444444444,
              "#bd3786"
             ],
             [
              0.5555555555555556,
              "#d8576b"
             ],
             [
              0.6666666666666666,
              "#ed7953"
             ],
             [
              0.7777777777777778,
              "#fb9f3a"
             ],
             [
              0.8888888888888888,
              "#fdca26"
             ],
             [
              1,
              "#f0f921"
             ]
            ],
            "type": "surface"
           }
          ],
          "table": [
           {
            "cells": {
             "fill": {
              "color": "#EBF0F8"
             },
             "line": {
              "color": "white"
             }
            },
            "header": {
             "fill": {
              "color": "#C8D4E3"
             },
             "line": {
              "color": "white"
             }
            },
            "type": "table"
           }
          ]
         },
         "layout": {
          "annotationdefaults": {
           "arrowcolor": "#2a3f5f",
           "arrowhead": 0,
           "arrowwidth": 1
          },
          "autotypenumbers": "strict",
          "coloraxis": {
           "colorbar": {
            "outlinewidth": 0,
            "ticks": ""
           }
          },
          "colorscale": {
           "diverging": [
            [
             0,
             "#8e0152"
            ],
            [
             0.1,
             "#c51b7d"
            ],
            [
             0.2,
             "#de77ae"
            ],
            [
             0.3,
             "#f1b6da"
            ],
            [
             0.4,
             "#fde0ef"
            ],
            [
             0.5,
             "#f7f7f7"
            ],
            [
             0.6,
             "#e6f5d0"
            ],
            [
             0.7,
             "#b8e186"
            ],
            [
             0.8,
             "#7fbc41"
            ],
            [
             0.9,
             "#4d9221"
            ],
            [
             1,
             "#276419"
            ]
           ],
           "sequential": [
            [
             0,
             "#0d0887"
            ],
            [
             0.1111111111111111,
             "#46039f"
            ],
            [
             0.2222222222222222,
             "#7201a8"
            ],
            [
             0.3333333333333333,
             "#9c179e"
            ],
            [
             0.4444444444444444,
             "#bd3786"
            ],
            [
             0.5555555555555556,
             "#d8576b"
            ],
            [
             0.6666666666666666,
             "#ed7953"
            ],
            [
             0.7777777777777778,
             "#fb9f3a"
            ],
            [
             0.8888888888888888,
             "#fdca26"
            ],
            [
             1,
             "#f0f921"
            ]
           ],
           "sequentialminus": [
            [
             0,
             "#0d0887"
            ],
            [
             0.1111111111111111,
             "#46039f"
            ],
            [
             0.2222222222222222,
             "#7201a8"
            ],
            [
             0.3333333333333333,
             "#9c179e"
            ],
            [
             0.4444444444444444,
             "#bd3786"
            ],
            [
             0.5555555555555556,
             "#d8576b"
            ],
            [
             0.6666666666666666,
             "#ed7953"
            ],
            [
             0.7777777777777778,
             "#fb9f3a"
            ],
            [
             0.8888888888888888,
             "#fdca26"
            ],
            [
             1,
             "#f0f921"
            ]
           ]
          },
          "colorway": [
           "#636efa",
           "#EF553B",
           "#00cc96",
           "#ab63fa",
           "#FFA15A",
           "#19d3f3",
           "#FF6692",
           "#B6E880",
           "#FF97FF",
           "#FECB52"
          ],
          "font": {
           "color": "#2a3f5f"
          },
          "geo": {
           "bgcolor": "white",
           "lakecolor": "white",
           "landcolor": "#E5ECF6",
           "showlakes": true,
           "showland": true,
           "subunitcolor": "white"
          },
          "hoverlabel": {
           "align": "left"
          },
          "hovermode": "closest",
          "mapbox": {
           "style": "light"
          },
          "paper_bgcolor": "white",
          "plot_bgcolor": "#E5ECF6",
          "polar": {
           "angularaxis": {
            "gridcolor": "white",
            "linecolor": "white",
            "ticks": ""
           },
           "bgcolor": "#E5ECF6",
           "radialaxis": {
            "gridcolor": "white",
            "linecolor": "white",
            "ticks": ""
           }
          },
          "scene": {
           "xaxis": {
            "backgroundcolor": "#E5ECF6",
            "gridcolor": "white",
            "gridwidth": 2,
            "linecolor": "white",
            "showbackground": true,
            "ticks": "",
            "zerolinecolor": "white"
           },
           "yaxis": {
            "backgroundcolor": "#E5ECF6",
            "gridcolor": "white",
            "gridwidth": 2,
            "linecolor": "white",
            "showbackground": true,
            "ticks": "",
            "zerolinecolor": "white"
           },
           "zaxis": {
            "backgroundcolor": "#E5ECF6",
            "gridcolor": "white",
            "gridwidth": 2,
            "linecolor": "white",
            "showbackground": true,
            "ticks": "",
            "zerolinecolor": "white"
           }
          },
          "shapedefaults": {
           "line": {
            "color": "#2a3f5f"
           }
          },
          "ternary": {
           "aaxis": {
            "gridcolor": "white",
            "linecolor": "white",
            "ticks": ""
           },
           "baxis": {
            "gridcolor": "white",
            "linecolor": "white",
            "ticks": ""
           },
           "bgcolor": "#E5ECF6",
           "caxis": {
            "gridcolor": "white",
            "linecolor": "white",
            "ticks": ""
           }
          },
          "title": {
           "x": 0.05
          },
          "xaxis": {
           "automargin": true,
           "gridcolor": "white",
           "linecolor": "white",
           "ticks": "",
           "title": {
            "standoff": 15
           },
           "zerolinecolor": "white",
           "zerolinewidth": 2
          },
          "yaxis": {
           "automargin": true,
           "gridcolor": "white",
           "linecolor": "white",
           "ticks": "",
           "title": {
            "standoff": 15
           },
           "zerolinecolor": "white",
           "zerolinewidth": 2
          }
         }
        },
        "title": {
         "text": "title"
        },
        "width": 1200,
        "xaxis": {
         "anchor": "y",
         "domain": [
          0,
          1
         ],
         "title": {
          "text": "y_label"
         }
        },
        "yaxis": {
         "anchor": "x",
         "domain": [
          0,
          1
         ],
         "title": {
          "text": "x_label"
         }
        }
       }
      }
     },
     "metadata": {},
     "output_type": "display_data"
    },
    {
     "data": {
      "text/plain": [
       "<src.utils.results.ResultsManager at 0x7af2b3bb2310>"
      ]
     },
     "execution_count": 48,
     "metadata": {},
     "output_type": "execute_result"
    }
   ],
   "source": [
    "\n",
    "from importlib import reload\n",
    "import src.utils.results as results\n",
    "\n",
    "reload(results)\n",
    "from src.utils.results import ResultsManager\n",
    "res = ResultsManager()\n",
    "res.add_result_file('../results/results_benchmark_sklearn.csv', 'text')\n",
    "res.add_result_file('../results/results_benchmark_bert.csv', 'bert')\n",
    "res.add_result_file('../results/results_benchmark_img.csv', 'img')\n",
    "\n",
    "#res.df_results.head()\n",
    "res.plot_f1_scores_by_prdtype(filter_package=['bert','text'])\n",
    "\n",
    "# df_sklearn = pd.read_csv('../results/results_benchmark_sklearn.csv', index_col=0)\n",
    "# df_bert = pd.read_csv('../results/results_benchmark_bert.csv', index_col=0)\n",
    "# df_img = pd.read_csv('../results/results_benchmark_img.csv', index_col=0)\n",
    "\n",
    "# df_sklearn['package']= 'sklearn'\n",
    "# df_bert['package']= 'bert'\n",
    "# df_img['package']= 'img'\n",
    "\n",
    "# fusion = pd.concat([df_sklearn, df_bert, df_img])\n",
    "\n",
    "# fusion.head()\n",
    "\n",
    "# fusion.info()\n",
    "\n"
   ]
  },
  {
   "cell_type": "code",
   "execution_count": 79,
   "metadata": {},
   "outputs": [
    {
     "data": {
      "text/plain": [
       "(30, 19)"
      ]
     },
     "execution_count": 79,
     "metadata": {},
     "output_type": "execute_result"
    }
   ],
   "source": [
    "/home/thibaud/repos/anaconda/rakuten/data/clean/le_classes .npy"
   ]
  },
  {
   "cell_type": "code",
   "execution_count": 13,
   "metadata": {},
   "outputs": [
    {
     "name": "stderr",
     "output_type": "stream",
     "text": [
      "/tmp/ipykernel_1141312/2952430557.py:12: SettingWithCopyWarning:\n",
      "\n",
      "\n",
      "A value is trying to be set on a copy of a slice from a DataFrame.\n",
      "Try using .loc[row_indexer,col_indexer] = value instead\n",
      "\n",
      "See the caveats in the documentation: https://pandas.pydata.org/pandas-docs/stable/user_guide/indexing.html#returning-a-view-versus-a-copy\n",
      "\n"
     ]
    },
    {
     "data": {
      "application/vnd.plotly.v1+json": {
       "config": {
        "plotlyServerURL": "https://plot.ly"
       },
       "data": [
        {
         "alignmentgroup": "True",
         "hovertemplate": "vectorizer=camembert-base-ccnet<br>score_test=%{x}<br>model_path=%{y}<extra></extra>",
         "legendgroup": "camembert-base-ccnet",
         "marker": {
          "color": "#636EFA",
          "pattern": {
           "shape": ""
          }
         },
         "name": "camembert-base-ccnet",
         "offsetgroup": "camembert-base-ccnet",
         "orientation": "h",
         "showlegend": true,
         "textposition": "auto",
         "type": "bar",
         "width": 0.8,
         "x": [
          0.8857864469097614
         ],
         "xaxis": "x",
         "y": [
          "text/camembert-base-ccnet"
         ],
         "yaxis": "y"
        },
        {
         "alignmentgroup": "True",
         "hovertemplate": "vectorizer=camembert-base<br>score_test=%{x}<br>model_path=%{y}<extra></extra>",
         "legendgroup": "camembert-base",
         "marker": {
          "color": "#EF553B",
          "pattern": {
           "shape": ""
          }
         },
         "name": "camembert-base",
         "offsetgroup": "camembert-base",
         "orientation": "h",
         "showlegend": true,
         "textposition": "auto",
         "type": "bar",
         "width": 0.8,
         "x": [
          0.8855658016888385
         ],
         "xaxis": "x",
         "y": [
          "text/camembert-base"
         ],
         "yaxis": "y"
        },
        {
         "alignmentgroup": "True",
         "hovertemplate": "vectorizer=flaubert_base_uncased<br>score_test=%{x}<br>model_path=%{y}<extra></extra>",
         "legendgroup": "flaubert_base_uncased",
         "marker": {
          "color": "#00CC96",
          "pattern": {
           "shape": ""
          }
         },
         "name": "flaubert_base_uncased",
         "offsetgroup": "flaubert_base_uncased",
         "orientation": "h",
         "showlegend": true,
         "textposition": "auto",
         "type": "bar",
         "width": 0.8,
         "x": [
          0.8776119296690704
         ],
         "xaxis": "x",
         "y": [
          "text/flaubert_base_uncased"
         ],
         "yaxis": "y"
        },
        {
         "alignmentgroup": "True",
         "hovertemplate": "vectorizer=tfidf<br>score_test=%{x}<br>model_path=%{y}<extra></extra>",
         "legendgroup": "tfidf",
         "marker": {
          "color": "#AB63FA",
          "pattern": {
           "shape": ""
          }
         },
         "name": "tfidf",
         "offsetgroup": "tfidf",
         "orientation": "h",
         "showlegend": true,
         "textposition": "auto",
         "type": "bar",
         "width": 0.8,
         "x": [
          0.8239800861828738,
          0.8193118067053706,
          0.812512673117705,
          0.7764210029928454,
          0.771265410675905,
          0.6131298294051816
         ],
         "xaxis": "x",
         "y": [
          "text/LinearSVC_tfidf",
          "text/xgboost_tfidf",
          "text/LogisticRegression_tfidf",
          "text/RandomForestClassifier_tfidf",
          "text/MultinomialNB_tfidf",
          "text/SVC_tfidf"
         ],
         "yaxis": "y"
        },
        {
         "alignmentgroup": "True",
         "hovertemplate": "vectorizer=skipgram<br>score_test=%{x}<br>model_path=%{y}<extra></extra>",
         "legendgroup": "skipgram",
         "marker": {
          "color": "#FFA15A",
          "pattern": {
           "shape": ""
          }
         },
         "name": "skipgram",
         "offsetgroup": "skipgram",
         "orientation": "h",
         "showlegend": true,
         "textposition": "auto",
         "type": "bar",
         "width": 0.8,
         "x": [
          0.8122277556665772,
          0.8013694697810105,
          0.7698540020165677,
          0.7640591569090228
         ],
         "xaxis": "x",
         "y": [
          "text/SVC_skipgram",
          "text/xgboost_skipgram",
          "text/LogisticRegression_skipgram",
          "text/RandomForestClassifier_skipgram"
         ],
         "yaxis": "y"
        },
        {
         "alignmentgroup": "True",
         "hovertemplate": "vectorizer=cbow<br>score_test=%{x}<br>model_path=%{y}<extra></extra>",
         "legendgroup": "cbow",
         "marker": {
          "color": "#19D3F3",
          "pattern": {
           "shape": ""
          }
         },
         "name": "cbow",
         "offsetgroup": "cbow",
         "orientation": "h",
         "showlegend": true,
         "textposition": "auto",
         "type": "bar",
         "width": 0.8,
         "x": [
          0.7759367729160634,
          0.7616964698575163,
          0.7325875869554023,
          0.7282730934992188
         ],
         "xaxis": "x",
         "y": [
          "text/SVC_cbow",
          "text/xgboost_cbow",
          "text/RandomForestClassifier_cbow",
          "text/LogisticRegression_cbow"
         ],
         "yaxis": "y"
        }
       ],
       "layout": {
        "bargap": 0.3,
        "bargroupgap": 0.2,
        "barmode": "stack",
        "height": 600,
        "legend": {},
        "margin": {
         "t": 60
        },
        "template": {
         "data": {
          "bar": [
           {
            "error_x": {
             "color": "#2a3f5f"
            },
            "error_y": {
             "color": "#2a3f5f"
            },
            "marker": {
             "line": {
              "color": "#E5ECF6",
              "width": 0.5
             },
             "pattern": {
              "fillmode": "overlay",
              "size": 10,
              "solidity": 0.2
             }
            },
            "type": "bar"
           }
          ],
          "barpolar": [
           {
            "marker": {
             "line": {
              "color": "#E5ECF6",
              "width": 0.5
             },
             "pattern": {
              "fillmode": "overlay",
              "size": 10,
              "solidity": 0.2
             }
            },
            "type": "barpolar"
           }
          ],
          "carpet": [
           {
            "aaxis": {
             "endlinecolor": "#2a3f5f",
             "gridcolor": "white",
             "linecolor": "white",
             "minorgridcolor": "white",
             "startlinecolor": "#2a3f5f"
            },
            "baxis": {
             "endlinecolor": "#2a3f5f",
             "gridcolor": "white",
             "linecolor": "white",
             "minorgridcolor": "white",
             "startlinecolor": "#2a3f5f"
            },
            "type": "carpet"
           }
          ],
          "choropleth": [
           {
            "colorbar": {
             "outlinewidth": 0,
             "ticks": ""
            },
            "type": "choropleth"
           }
          ],
          "contour": [
           {
            "colorbar": {
             "outlinewidth": 0,
             "ticks": ""
            },
            "colorscale": [
             [
              0,
              "#0d0887"
             ],
             [
              0.1111111111111111,
              "#46039f"
             ],
             [
              0.2222222222222222,
              "#7201a8"
             ],
             [
              0.3333333333333333,
              "#9c179e"
             ],
             [
              0.4444444444444444,
              "#bd3786"
             ],
             [
              0.5555555555555556,
              "#d8576b"
             ],
             [
              0.6666666666666666,
              "#ed7953"
             ],
             [
              0.7777777777777778,
              "#fb9f3a"
             ],
             [
              0.8888888888888888,
              "#fdca26"
             ],
             [
              1,
              "#f0f921"
             ]
            ],
            "type": "contour"
           }
          ],
          "contourcarpet": [
           {
            "colorbar": {
             "outlinewidth": 0,
             "ticks": ""
            },
            "type": "contourcarpet"
           }
          ],
          "heatmap": [
           {
            "colorbar": {
             "outlinewidth": 0,
             "ticks": ""
            },
            "colorscale": [
             [
              0,
              "#0d0887"
             ],
             [
              0.1111111111111111,
              "#46039f"
             ],
             [
              0.2222222222222222,
              "#7201a8"
             ],
             [
              0.3333333333333333,
              "#9c179e"
             ],
             [
              0.4444444444444444,
              "#bd3786"
             ],
             [
              0.5555555555555556,
              "#d8576b"
             ],
             [
              0.6666666666666666,
              "#ed7953"
             ],
             [
              0.7777777777777778,
              "#fb9f3a"
             ],
             [
              0.8888888888888888,
              "#fdca26"
             ],
             [
              1,
              "#f0f921"
             ]
            ],
            "type": "heatmap"
           }
          ],
          "heatmapgl": [
           {
            "colorbar": {
             "outlinewidth": 0,
             "ticks": ""
            },
            "colorscale": [
             [
              0,
              "#0d0887"
             ],
             [
              0.1111111111111111,
              "#46039f"
             ],
             [
              0.2222222222222222,
              "#7201a8"
             ],
             [
              0.3333333333333333,
              "#9c179e"
             ],
             [
              0.4444444444444444,
              "#bd3786"
             ],
             [
              0.5555555555555556,
              "#d8576b"
             ],
             [
              0.6666666666666666,
              "#ed7953"
             ],
             [
              0.7777777777777778,
              "#fb9f3a"
             ],
             [
              0.8888888888888888,
              "#fdca26"
             ],
             [
              1,
              "#f0f921"
             ]
            ],
            "type": "heatmapgl"
           }
          ],
          "histogram": [
           {
            "marker": {
             "pattern": {
              "fillmode": "overlay",
              "size": 10,
              "solidity": 0.2
             }
            },
            "type": "histogram"
           }
          ],
          "histogram2d": [
           {
            "colorbar": {
             "outlinewidth": 0,
             "ticks": ""
            },
            "colorscale": [
             [
              0,
              "#0d0887"
             ],
             [
              0.1111111111111111,
              "#46039f"
             ],
             [
              0.2222222222222222,
              "#7201a8"
             ],
             [
              0.3333333333333333,
              "#9c179e"
             ],
             [
              0.4444444444444444,
              "#bd3786"
             ],
             [
              0.5555555555555556,
              "#d8576b"
             ],
             [
              0.6666666666666666,
              "#ed7953"
             ],
             [
              0.7777777777777778,
              "#fb9f3a"
             ],
             [
              0.8888888888888888,
              "#fdca26"
             ],
             [
              1,
              "#f0f921"
             ]
            ],
            "type": "histogram2d"
           }
          ],
          "histogram2dcontour": [
           {
            "colorbar": {
             "outlinewidth": 0,
             "ticks": ""
            },
            "colorscale": [
             [
              0,
              "#0d0887"
             ],
             [
              0.1111111111111111,
              "#46039f"
             ],
             [
              0.2222222222222222,
              "#7201a8"
             ],
             [
              0.3333333333333333,
              "#9c179e"
             ],
             [
              0.4444444444444444,
              "#bd3786"
             ],
             [
              0.5555555555555556,
              "#d8576b"
             ],
             [
              0.6666666666666666,
              "#ed7953"
             ],
             [
              0.7777777777777778,
              "#fb9f3a"
             ],
             [
              0.8888888888888888,
              "#fdca26"
             ],
             [
              1,
              "#f0f921"
             ]
            ],
            "type": "histogram2dcontour"
           }
          ],
          "mesh3d": [
           {
            "colorbar": {
             "outlinewidth": 0,
             "ticks": ""
            },
            "type": "mesh3d"
           }
          ],
          "parcoords": [
           {
            "line": {
             "colorbar": {
              "outlinewidth": 0,
              "ticks": ""
             }
            },
            "type": "parcoords"
           }
          ],
          "pie": [
           {
            "automargin": true,
            "type": "pie"
           }
          ],
          "scatter": [
           {
            "fillpattern": {
             "fillmode": "overlay",
             "size": 10,
             "solidity": 0.2
            },
            "type": "scatter"
           }
          ],
          "scatter3d": [
           {
            "line": {
             "colorbar": {
              "outlinewidth": 0,
              "ticks": ""
             }
            },
            "marker": {
             "colorbar": {
              "outlinewidth": 0,
              "ticks": ""
             }
            },
            "type": "scatter3d"
           }
          ],
          "scattercarpet": [
           {
            "marker": {
             "colorbar": {
              "outlinewidth": 0,
              "ticks": ""
             }
            },
            "type": "scattercarpet"
           }
          ],
          "scattergeo": [
           {
            "marker": {
             "colorbar": {
              "outlinewidth": 0,
              "ticks": ""
             }
            },
            "type": "scattergeo"
           }
          ],
          "scattergl": [
           {
            "marker": {
             "colorbar": {
              "outlinewidth": 0,
              "ticks": ""
             }
            },
            "type": "scattergl"
           }
          ],
          "scattermapbox": [
           {
            "marker": {
             "colorbar": {
              "outlinewidth": 0,
              "ticks": ""
             }
            },
            "type": "scattermapbox"
           }
          ],
          "scatterpolar": [
           {
            "marker": {
             "colorbar": {
              "outlinewidth": 0,
              "ticks": ""
             }
            },
            "type": "scatterpolar"
           }
          ],
          "scatterpolargl": [
           {
            "marker": {
             "colorbar": {
              "outlinewidth": 0,
              "ticks": ""
             }
            },
            "type": "scatterpolargl"
           }
          ],
          "scatterternary": [
           {
            "marker": {
             "colorbar": {
              "outlinewidth": 0,
              "ticks": ""
             }
            },
            "type": "scatterternary"
           }
          ],
          "surface": [
           {
            "colorbar": {
             "outlinewidth": 0,
             "ticks": ""
            },
            "colorscale": [
             [
              0,
              "#0d0887"
             ],
             [
              0.1111111111111111,
              "#46039f"
             ],
             [
              0.2222222222222222,
              "#7201a8"
             ],
             [
              0.3333333333333333,
              "#9c179e"
             ],
             [
              0.4444444444444444,
              "#bd3786"
             ],
             [
              0.5555555555555556,
              "#d8576b"
             ],
             [
              0.6666666666666666,
              "#ed7953"
             ],
             [
              0.7777777777777778,
              "#fb9f3a"
             ],
             [
              0.8888888888888888,
              "#fdca26"
             ],
             [
              1,
              "#f0f921"
             ]
            ],
            "type": "surface"
           }
          ],
          "table": [
           {
            "cells": {
             "fill": {
              "color": "#EBF0F8"
             },
             "line": {
              "color": "white"
             }
            },
            "header": {
             "fill": {
              "color": "#C8D4E3"
             },
             "line": {
              "color": "white"
             }
            },
            "type": "table"
           }
          ]
         },
         "layout": {
          "annotationdefaults": {
           "arrowcolor": "#2a3f5f",
           "arrowhead": 0,
           "arrowwidth": 1
          },
          "autotypenumbers": "strict",
          "coloraxis": {
           "colorbar": {
            "outlinewidth": 0,
            "ticks": ""
           }
          },
          "colorscale": {
           "diverging": [
            [
             0,
             "#8e0152"
            ],
            [
             0.1,
             "#c51b7d"
            ],
            [
             0.2,
             "#de77ae"
            ],
            [
             0.3,
             "#f1b6da"
            ],
            [
             0.4,
             "#fde0ef"
            ],
            [
             0.5,
             "#f7f7f7"
            ],
            [
             0.6,
             "#e6f5d0"
            ],
            [
             0.7,
             "#b8e186"
            ],
            [
             0.8,
             "#7fbc41"
            ],
            [
             0.9,
             "#4d9221"
            ],
            [
             1,
             "#276419"
            ]
           ],
           "sequential": [
            [
             0,
             "#0d0887"
            ],
            [
             0.1111111111111111,
             "#46039f"
            ],
            [
             0.2222222222222222,
             "#7201a8"
            ],
            [
             0.3333333333333333,
             "#9c179e"
            ],
            [
             0.4444444444444444,
             "#bd3786"
            ],
            [
             0.5555555555555556,
             "#d8576b"
            ],
            [
             0.6666666666666666,
             "#ed7953"
            ],
            [
             0.7777777777777778,
             "#fb9f3a"
            ],
            [
             0.8888888888888888,
             "#fdca26"
            ],
            [
             1,
             "#f0f921"
            ]
           ],
           "sequentialminus": [
            [
             0,
             "#0d0887"
            ],
            [
             0.1111111111111111,
             "#46039f"
            ],
            [
             0.2222222222222222,
             "#7201a8"
            ],
            [
             0.3333333333333333,
             "#9c179e"
            ],
            [
             0.4444444444444444,
             "#bd3786"
            ],
            [
             0.5555555555555556,
             "#d8576b"
            ],
            [
             0.6666666666666666,
             "#ed7953"
            ],
            [
             0.7777777777777778,
             "#fb9f3a"
            ],
            [
             0.8888888888888888,
             "#fdca26"
            ],
            [
             1,
             "#f0f921"
            ]
           ]
          },
          "colorway": [
           "#636efa",
           "#EF553B",
           "#00cc96",
           "#ab63fa",
           "#FFA15A",
           "#19d3f3",
           "#FF6692",
           "#B6E880",
           "#FF97FF",
           "#FECB52"
          ],
          "font": {
           "color": "#2a3f5f"
          },
          "geo": {
           "bgcolor": "white",
           "lakecolor": "white",
           "landcolor": "#E5ECF6",
           "showlakes": true,
           "showland": true,
           "subunitcolor": "white"
          },
          "hoverlabel": {
           "align": "left"
          },
          "hovermode": "closest",
          "mapbox": {
           "style": "light"
          },
          "paper_bgcolor": "white",
          "plot_bgcolor": "#E5ECF6",
          "polar": {
           "angularaxis": {
            "gridcolor": "white",
            "linecolor": "white",
            "ticks": ""
           },
           "bgcolor": "#E5ECF6",
           "radialaxis": {
            "gridcolor": "white",
            "linecolor": "white",
            "ticks": ""
           }
          },
          "scene": {
           "xaxis": {
            "backgroundcolor": "#E5ECF6",
            "gridcolor": "white",
            "gridwidth": 2,
            "linecolor": "white",
            "showbackground": true,
            "ticks": "",
            "zerolinecolor": "white"
           },
           "yaxis": {
            "backgroundcolor": "#E5ECF6",
            "gridcolor": "white",
            "gridwidth": 2,
            "linecolor": "white",
            "showbackground": true,
            "ticks": "",
            "zerolinecolor": "white"
           },
           "zaxis": {
            "backgroundcolor": "#E5ECF6",
            "gridcolor": "white",
            "gridwidth": 2,
            "linecolor": "white",
            "showbackground": true,
            "ticks": "",
            "zerolinecolor": "white"
           }
          },
          "shapedefaults": {
           "line": {
            "color": "#2a3f5f"
           }
          },
          "ternary": {
           "aaxis": {
            "gridcolor": "white",
            "linecolor": "white",
            "ticks": ""
           },
           "baxis": {
            "gridcolor": "white",
            "linecolor": "white",
            "ticks": ""
           },
           "bgcolor": "#E5ECF6",
           "caxis": {
            "gridcolor": "white",
            "linecolor": "white",
            "ticks": ""
           }
          },
          "title": {
           "x": 0.05
          },
          "xaxis": {
           "automargin": true,
           "gridcolor": "white",
           "linecolor": "white",
           "ticks": "",
           "title": {
            "standoff": 15
           },
           "zerolinecolor": "white",
           "zerolinewidth": 2
          },
          "yaxis": {
           "automargin": true,
           "gridcolor": "white",
           "linecolor": "white",
           "ticks": "",
           "title": {
            "standoff": 15
           },
           "zerolinecolor": "white",
           "zerolinewidth": 2
          }
         }
        },
        "title": {
         "text": "Benchmark des f1 scores"
        },
        "width": 1200,
        "xaxis": {
         "anchor": "y",
         "domain": [
          0,
          1
         ],
         "title": {
          "text": "f1 score"
         }
        },
        "yaxis": {
         "anchor": "x",
         "categoryarray": [
          "text/SVC_tfidf",
          "text/LogisticRegression_cbow",
          "text/RandomForestClassifier_cbow",
          "text/xgboost_cbow",
          "text/RandomForestClassifier_skipgram",
          "text/LogisticRegression_skipgram",
          "text/MultinomialNB_tfidf",
          "text/SVC_cbow",
          "text/RandomForestClassifier_tfidf",
          "text/xgboost_skipgram",
          "text/SVC_skipgram",
          "text/LogisticRegression_tfidf",
          "text/xgboost_tfidf",
          "text/LinearSVC_tfidf",
          "text/flaubert_base_uncased",
          "text/camembert-base",
          "text/camembert-base-ccnet"
         ],
         "categoryorder": "array",
         "domain": [
          0,
          1
         ],
         "title": {
          "text": "model"
         }
        }
       }
      }
     },
     "metadata": {},
     "output_type": "display_data"
    },
    {
     "data": {
      "text/plain": [
       "<module 'matplotlib.pyplot' from '/home/thibaud/intel/oneapi/intelpython/envs/tensorflow/lib/python3.9/site-packages/matplotlib/pyplot.py'>"
      ]
     },
     "execution_count": 13,
     "metadata": {},
     "output_type": "execute_result"
    }
   ],
   "source": [
    "from importlib import reload\n",
    "import plotly.graph_objs as go\n",
    "import numpy as np\n",
    "import src.utils.plot as uplot\n",
    "\n",
    "reload(uplot)\n",
    "scores = fusion[['model_path', 'score_test', 'package', 'classifier', 'vectorization']]\n",
    "\n",
    "# display(scores)\n",
    "\n",
    "\n",
    "scores.loc[:, 'vectorizer'] = scores.apply(lambda row: row.classifier if pd.isna(row.vectorization) else row.vectorization, axis=1)\n",
    "scores=scores.groupby(['model_path', 'package', 'classifier', 'vectorizer']).max('score_test').reset_index()\n",
    "scores = scores[scores.package != 'img']\n",
    "sorted_scores = scores.sort_values(by='score_test', ascending=False)\n",
    "\n",
    "# Sort 'scores' by 'score_test' in descending order\n",
    "sorted_scores = scores.sort_values('score_test', ascending=False)\n",
    "\n",
    "# Create custom categories order based on the sorted 'score_test'\n",
    "custom_categories_order = sorted_scores['model_path'].tolist()\n",
    "\n",
    "\n",
    "uplot.plot_bench_results(\n",
    "    sorted_scores, \n",
    "    'model_path', \n",
    "    'score_test', \n",
    "    'model', \n",
    "    'f1 score', \n",
    "    color_column='vectorizer',\n",
    "    title='Benchmark des f1 scores'\n",
    ")\n",
    "\n",
    "\n"
   ]
  },
  {
   "cell_type": "code",
   "execution_count": null,
   "metadata": {},
   "outputs": [],
   "source": [
    "from importlib import reload\n",
    "import plotly.graph_objs as go\n",
    "import numpy as np\n",
    "import src.utils.plot as uplot\n",
    "\n",
    "reload(uplot)\n",
    "scores = fusion[['model_path', 'score_test', 'package', 'classifier', 'vectorization']]\n",
    "\n",
    "# display(scores)\n",
    "\n",
    "\n",
    "scores.loc[:, 'vectorizer'] = scores.apply(lambda row: row.classifier if pd.isna(row.vectorization) else row.vectorization, axis=1)\n",
    "scores=scores.groupby(['model_path', 'package', 'classifier', 'vectorizer']).max('score_test').reset_index()\n",
    "scores = scores[scores.package != 'img']\n",
    "sorted_scores = scores.sort_values(by='score_test', ascending=False)\n",
    "\n",
    "# Sort 'scores' by 'score_test' in descending order\n",
    "sorted_scores = scores.sort_values('score_test', ascending=False)\n",
    "\n",
    "# Create custom categories order based on the sorted 'score_test'\n",
    "custom_categories_order = sorted_scores['model_path'].tolist()\n",
    "\n",
    "\n",
    "uplot.plot_bench_results(\n",
    "    sorted_scores, \n",
    "    'model_path', \n",
    "    'score_test', \n",
    "    'model', \n",
    "    'f1 score', \n",
    "    color_column='vectorizer',\n",
    "    title='Benchmark des f1 scores'\n",
    ")\n",
    "\n",
    "\n"
   ]
  },
  {
   "cell_type": "code",
   "execution_count": null,
   "metadata": {},
   "outputs": [],
   "source": []
  }
 ],
 "metadata": {
  "kernelspec": {
   "display_name": "tensorflow",
   "language": "python",
   "name": "python3"
  },
  "language_info": {
   "codemirror_mode": {
    "name": "ipython",
    "version": 3
   },
   "file_extension": ".py",
   "mimetype": "text/x-python",
   "name": "python",
   "nbconvert_exporter": "python",
   "pygments_lexer": "ipython3",
   "version": "3.9.18"
  }
 },
 "nbformat": 4,
 "nbformat_minor": 2
}
