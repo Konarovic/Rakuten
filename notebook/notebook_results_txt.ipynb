{
 "cells": [
  {
   "cell_type": "code",
   "execution_count": 2,
   "metadata": {},
   "outputs": [
    {
     "name": "stderr",
     "output_type": "stream",
     "text": [
      "2024-03-11 08:28:02.689036: I tensorflow/core/util/port.cc:113] oneDNN custom operations are on. You may see slightly different numerical results due to floating-point round-off errors from different computation orders. To turn them off, set the environment variable `TF_ENABLE_ONEDNN_OPTS=0`.\n",
      "2024-03-11 08:28:02.945302: E external/local_xla/xla/stream_executor/cuda/cuda_dnn.cc:9261] Unable to register cuDNN factory: Attempting to register factory for plugin cuDNN when one has already been registered\n",
      "2024-03-11 08:28:02.945370: E external/local_xla/xla/stream_executor/cuda/cuda_fft.cc:607] Unable to register cuFFT factory: Attempting to register factory for plugin cuFFT when one has already been registered\n",
      "2024-03-11 08:28:02.963225: E external/local_xla/xla/stream_executor/cuda/cuda_blas.cc:1515] Unable to register cuBLAS factory: Attempting to register factory for plugin cuBLAS when one has already been registered\n",
      "2024-03-11 08:28:03.048690: I tensorflow/core/platform/cpu_feature_guard.cc:182] This TensorFlow binary is optimized to use available CPU instructions in performance-critical operations.\n",
      "To enable the following instructions: AVX2 AVX_VNNI FMA, in other operations, rebuild TensorFlow with the appropriate compiler flags.\n",
      "2024-03-11 08:28:06.438071: W tensorflow/compiler/tf2tensorrt/utils/py_utils.cc:38] TF-TRT Warning: Could not find TensorRT\n",
      "/home/jul/anaconda3/envs/Rakuten/lib/python3.11/site-packages/tqdm/auto.py:21: TqdmWarning:\n",
      "\n",
      "IProgress not found. Please update jupyter and ipywidgets. See https://ipywidgets.readthedocs.io/en/stable/user_install.html\n",
      "\n",
      "/home/jul/anaconda3/envs/Rakuten/lib/python3.11/site-packages/paramiko/transport.py:219: CryptographyDeprecationWarning:\n",
      "\n",
      "Blowfish has been deprecated\n",
      "\n",
      "/home/jul/anaconda3/envs/Rakuten/lib/python3.11/site-packages/tensorflow_addons/utils/tfa_eol_msg.py:23: UserWarning:\n",
      "\n",
      "\n",
      "\n",
      "TensorFlow Addons (TFA) has ended development and introduction of new features.\n",
      "TFA has entered a minimal maintenance and release mode until a planned end of life in May 2024.\n",
      "Please modify downstream libraries to take dependencies from other repositories in our TensorFlow community (e.g. Keras, Keras-CV, and Keras-NLP). \n",
      "\n",
      "For more information see: https://github.com/tensorflow/addons/issues/2807 \n",
      "\n",
      "\n"
     ]
    }
   ],
   "source": [
    "import os\n",
    "import sys\n",
    "\n",
    "#Import config file. Update config.py according to your environment\n",
    "import config\n",
    "\n",
    "import pandas as pd\n",
    "import numpy as np\n",
    "\n",
    "import tensorflow as tf\n",
    "\n",
    "from Rakuten_preprocessing import Rakuten_img_path\n",
    "\n",
    "from src.text.classifiers import MLClassifier\n",
    "\n",
    "from src.utils.batch import fit_save_all\n",
    "from src.utils.load import load_classifier\n",
    "\n",
    "import ast"
   ]
  },
  {
   "cell_type": "code",
   "execution_count": 48,
   "metadata": {},
   "outputs": [],
   "source": [
    "clf1 = load_classifier('text/LinearSVC_tfidf')"
   ]
  },
  {
   "cell_type": "code",
   "execution_count": 46,
   "metadata": {},
   "outputs": [
    {
     "name": "stderr",
     "output_type": "stream",
     "text": [
      "/tmp/ipykernel_17931/3634201796.py:4: SettingWithCopyWarning:\n",
      "\n",
      "\n",
      "A value is trying to be set on a copy of a slice from a DataFrame\n",
      "\n",
      "See the caveats in the documentation: https://pandas.pydata.org/pandas-docs/stable/user_guide/indexing.html#returning-a-view-versus-a-copy\n",
      "\n"
     ]
    },
    {
     "data": {
      "text/html": [
       "<div>\n",
       "<style scoped>\n",
       "    .dataframe tbody tr th:only-of-type {\n",
       "        vertical-align: middle;\n",
       "    }\n",
       "\n",
       "    .dataframe tbody tr th {\n",
       "        vertical-align: top;\n",
       "    }\n",
       "\n",
       "    .dataframe thead th {\n",
       "        text-align: right;\n",
       "    }\n",
       "</style>\n",
       "<table border=\"1\" class=\"dataframe\">\n",
       "  <thead>\n",
       "    <tr style=\"text-align: right;\">\n",
       "      <th></th>\n",
       "      <th>Unnamed: 0</th>\n",
       "      <th>modality</th>\n",
       "      <th>class</th>\n",
       "      <th>vectorization</th>\n",
       "      <th>classifier</th>\n",
       "      <th>tested_params</th>\n",
       "      <th>best_params</th>\n",
       "      <th>score_test</th>\n",
       "      <th>score_test_cat</th>\n",
       "      <th>conf_mat_test</th>\n",
       "      <th>score_train</th>\n",
       "      <th>fit_time</th>\n",
       "      <th>score_cv_test</th>\n",
       "      <th>score_cv_train</th>\n",
       "      <th>fit_cv_time</th>\n",
       "      <th>probs_test</th>\n",
       "      <th>pred_test</th>\n",
       "      <th>y_test</th>\n",
       "      <th>model_path</th>\n",
       "    </tr>\n",
       "  </thead>\n",
       "  <tbody>\n",
       "    <tr>\n",
       "      <th>0</th>\n",
       "      <td>0</td>\n",
       "      <td>text</td>\n",
       "      <td>MLClassifier</td>\n",
       "      <td>tfidf</td>\n",
       "      <td>LinearSVC</td>\n",
       "      <td>{'C': [0.8, 0.9, 1.0, 1.1], 'penalty': ['l2']}</td>\n",
       "      <td>NaN</td>\n",
       "      <td>0.825352</td>\n",
       "      <td>[0.5201938610662359, 0.7850467289719626, 0.932...</td>\n",
       "      <td>[[322, 3, 8, 1, 10, 5, 4, 0, 2, 5, 2, 1, 1, 2,...</td>\n",
       "      <td>0.978203</td>\n",
       "      <td>5.301483</td>\n",
       "      <td>NaN</td>\n",
       "      <td>NaN</td>\n",
       "      <td>NaN</td>\n",
       "      <td>NaN</td>\n",
       "      <td>[7, 11, 20, 2, 16, 22, 13, 20, 17, 23, 19, 15,...</td>\n",
       "      <td>[7, 10, 20, 2, 16, 0, 13, 20, 24, 23, 4, 15, 1...</td>\n",
       "      <td>text/LinearSVC_tfidf</td>\n",
       "    </tr>\n",
       "  </tbody>\n",
       "</table>\n",
       "</div>"
      ],
      "text/plain": [
       "   Unnamed: 0 modality         class vectorization classifier  \\\n",
       "0           0     text  MLClassifier         tfidf  LinearSVC   \n",
       "\n",
       "                                    tested_params  best_params  score_test  \\\n",
       "0  {'C': [0.8, 0.9, 1.0, 1.1], 'penalty': ['l2']}          NaN    0.825352   \n",
       "\n",
       "                                      score_test_cat  \\\n",
       "0  [0.5201938610662359, 0.7850467289719626, 0.932...   \n",
       "\n",
       "                                       conf_mat_test  score_train  fit_time  \\\n",
       "0  [[322, 3, 8, 1, 10, 5, 4, 0, 2, 5, 2, 1, 1, 2,...     0.978203  5.301483   \n",
       "\n",
       "   score_cv_test  score_cv_train  fit_cv_time  probs_test  \\\n",
       "0            NaN             NaN          NaN         NaN   \n",
       "\n",
       "                                           pred_test  \\\n",
       "0  [7, 11, 20, 2, 16, 22, 13, 20, 17, 23, 19, 15,...   \n",
       "\n",
       "                                              y_test            model_path  \n",
       "0  [7, 10, 20, 2, 16, 0, 13, 20, 24, 23, 4, 15, 1...  text/LinearSVC_tfidf  "
      ]
     },
     "metadata": {},
     "output_type": "display_data"
    }
   ],
   "source": [
    "df_results = pd.read_csv(os.path.join(config.path_to_results, 'results_benchmark_text.csv'))\n",
    "#convert strings as numpy array where necessary\n",
    "df_results['conf_mat_test'] = df_results['conf_mat_test'].apply(ast.literal_eval).apply(np.array)\n",
    "df_results['probs_test'][~df_results['probs_test'].isna()] = df_results['probs_test'][~df_results['probs_test'].isna()].apply(ast.literal_eval).apply(np.array)\n",
    "df_results['pred_test'] = df_results['pred_test'].apply(ast.literal_eval).apply(np.array)\n",
    "df_results['y_test'] = df_results['y_test'].apply(ast.literal_eval).apply(np.array)\n",
    "\n",
    "display(df_results)"
   ]
  },
  {
   "cell_type": "code",
   "execution_count": 38,
   "metadata": {},
   "outputs": [
    {
     "data": {
      "text/plain": [
       "array([0.52019386, 0.78504673, 0.93259122, 0.65648855, 0.68994709,\n",
       "       0.62096774, 0.92015209, 0.9689441 , 0.82030457, 0.84018987,\n",
       "       0.8365243 , 0.90503432, 0.91343284, 0.8132739 , 0.89589905,\n",
       "       0.77371542, 0.76361713, 0.78397213, 0.94135189, 0.7388664 ,\n",
       "       0.97336562, 0.82877406, 0.69771689, 0.96253602, 0.70041322,\n",
       "       0.8173913 , 0.86451613])"
      ]
     },
     "execution_count": 38,
     "metadata": {},
     "output_type": "execute_result"
    }
   ],
   "source": [
    "recall_mat = df_results.loc[0, 'conf_mat_test']/ df_results.loc[0, 'conf_mat_test'].sum(axis=1)\n",
    "precision_mat = df_results.loc[0, 'conf_mat_test']/ df_results.loc[0, 'conf_mat_test'].sum(axis=0)\n",
    "\n",
    "f1score = 2 * np.diag(precision_mat * recall_mat) / np.diag(precision_mat + recall_mat)\n",
    "f1score"
   ]
  },
  {
   "cell_type": "code",
   "execution_count": 33,
   "metadata": {},
   "outputs": [
    {
     "name": "stdout",
     "output_type": "stream",
     "text": [
      "              precision    recall  f1-score   support\n",
      "\n",
      "           0       0.52      0.52      0.52       623\n",
      "           1       0.78      0.79      0.79       534\n",
      "           2       0.91      0.95      0.93       791\n",
      "           3       0.79      0.56      0.66       153\n",
      "           4       0.71      0.67      0.69       974\n",
      "           5       0.70      0.56      0.62       414\n",
      "           6       0.88      0.96      0.92      1009\n",
      "           7       0.97      0.97      0.97       161\n",
      "           8       0.83      0.81      0.82       498\n",
      "           9       0.86      0.82      0.84       648\n",
      "          10       0.83      0.84      0.84      1015\n",
      "          11       0.89      0.92      0.91       861\n",
      "          12       0.88      0.95      0.91       161\n",
      "          13       0.80      0.82      0.81       999\n",
      "          14       0.93      0.86      0.90       165\n",
      "          15       0.73      0.82      0.77       952\n",
      "          16       0.77      0.76      0.76       955\n",
      "          17       0.78      0.79      0.78       284\n",
      "          18       0.93      0.95      0.94       998\n",
      "          19       0.78      0.70      0.74       518\n",
      "          20       0.96      0.98      0.97      2042\n",
      "          21       0.84      0.82      0.83       499\n",
      "          22       0.70      0.69      0.70       552\n",
      "          23       0.97      0.96      0.96       174\n",
      "          24       0.73      0.68      0.70       502\n",
      "          25       0.80      0.84      0.82       336\n",
      "          26       0.93      0.81      0.86       166\n",
      "\n",
      "    accuracy                           0.83     16984\n",
      "   macro avg       0.82      0.81      0.81     16984\n",
      "weighted avg       0.83      0.83      0.83     16984\n",
      "\n"
     ]
    }
   ],
   "source": [
    "print(clf1.classification_results)"
   ]
  },
  {
   "cell_type": "code",
   "execution_count": 29,
   "metadata": {},
   "outputs": [
    {
     "data": {
      "text/plain": [
       "<Axes: >"
      ]
     },
     "execution_count": 29,
     "metadata": {},
     "output_type": "execute_result"
    },
    {
     "data": {
      "image/png": "[encoded data removed]",
      "text/plain": [
       "<Figure size 640x480 with 2 Axes>"
      ]
     },
     "metadata": {},
     "output_type": "display_data"
    }
   ],
   "source": [
    "import seaborn as sns\n",
    "import matplotlib.pyplot as plt\n",
    "\n",
    "sns.heatmap(df_results.loc[0, 'conf_mat_test']/ df_results.loc[0, 'conf_mat_test'].sum(axis=1))"
   ]
  },
  {
   "cell_type": "code",
   "execution_count": 12,
   "metadata": {},
   "outputs": [
    {
     "data": {
      "image/png": "[encoded data removed]",
      "text/plain": [
       "<Figure size 640x480 with 6 Axes>"
      ]
     },
     "metadata": {},
     "output_type": "display_data"
    }
   ],
   "source": [
    "import seaborn as sns\n",
    "import matplotlib.pyplot as plt\n",
    "\n",
    "plt.subplot(1, 3, 1)\n",
    "sns.heatmap(clf1.confusion_mat / clf1.confusion_mat.sum(axis=1))\n",
    "plt.axis('equal')\n",
    "plt.subplot(1, 3, 2)\n",
    "sns.heatmap(clf2.confusion_mat / clf1.confusion_mat.sum(axis=1))\n",
    "plt.axis('equal')\n",
    "plt.subplot(1, 3, 3)\n",
    "sns.heatmap((clf1.confusion_mat - clf2.confusion_mat) / clf1.confusion_mat.sum(axis=1))\n",
    "plt.axis('equal')\n",
    "\n",
    "plt.show()"
   ]
  },
  {
   "cell_type": "code",
   "execution_count": null,
   "metadata": {},
   "outputs": [],
   "source": []
  }
 ],
 "metadata": {
  "kernelspec": {
   "display_name": "Rakuten",
   "language": "python",
   "name": "python3"
  },
  "language_info": {
   "codemirror_mode": {
    "name": "ipython",
    "version": 3
   },
   "file_extension": ".py",
   "mimetype": "text/x-python",
   "name": "python",
   "nbconvert_exporter": "python",
   "pygments_lexer": "ipython3",
   "version": "3.11.7"
  }
 },
 "nbformat": 4,
 "nbformat_minor": 2
}
