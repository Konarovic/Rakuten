{
 "cells": [
  {
   "cell_type": "code",
   "execution_count": 1,
   "metadata": {},
   "outputs": [
    {
     "name": "stdout",
     "output_type": "stream",
     "text": [
      "C:\\Users\\mangg\\projects\\RakutenTeam\\data C:\\Users\\mangg\\projects\\RakutenTeam\n"
     ]
    }
   ],
   "source": [
    "import pandas as pd\n",
    "import numpy as np\n",
    "import os\n",
    "import re\n",
    "\n",
    "BASE_DIR = os.getcwd()\n",
    "directory_name = os.path.basename(BASE_DIR)\n",
    "if directory_name != \"RakutenTeam\": \n",
    "    BASE_DIR = os.path.realpath(os.path.join(os.path.dirname(__name__), '..'))\n",
    "    os.chdir(BASE_DIR)\n",
    "DATA_DIR = os.path.join(BASE_DIR, 'data')\n",
    "print(DATA_DIR, BASE_DIR)"
   ]
  },
  {
   "cell_type": "code",
   "execution_count": 2,
   "metadata": {},
   "outputs": [
    {
     "name": "stdout",
     "output_type": "stream",
     "text": [
      "C:\\Users\\mangg\\projects\\RakutenTeam\\data\\raw\n"
     ]
    }
   ],
   "source": [
    "from src.data_loader import import_data\n",
    "\n",
    "folder_path = os.path.join(DATA_DIR, \"raw\")\n",
    "print(folder_path)"
   ]
  },
  {
   "cell_type": "code",
   "execution_count": 3,
   "metadata": {},
   "outputs": [
    {
     "name": "stdout",
     "output_type": "stream",
     "text": [
      "<class 'pandas.core.frame.DataFrame'>\n",
      "Index: 84916 entries, 0 to 84915\n",
      "Data columns (total 5 columns):\n",
      " #   Column       Non-Null Count  Dtype \n",
      "---  ------       --------------  ----- \n",
      " 0   prdtypecode  84916 non-null  int64 \n",
      " 1   designation  84916 non-null  object\n",
      " 2   description  55116 non-null  object\n",
      " 3   productid    84916 non-null  int64 \n",
      " 4   imageid      84916 non-null  int64 \n",
      "dtypes: int64(3), object(2)\n",
      "memory usage: 5.9+ MB\n"
     ]
    }
   ],
   "source": [
    "df = import_data(folder_path=folder_path)\n",
    "df.info()"
   ]
  },
  {
   "cell_type": "code",
   "execution_count": 4,
   "metadata": {},
   "outputs": [],
   "source": [
    "designations = df.designation\n",
    "descriptions = df.description"
   ]
  }
 ],
 "metadata": {
  "kernelspec": {
   "display_name": "Rakuten",
   "language": "python",
   "name": "python3"
  },
  "language_info": {
   "codemirror_mode": {
    "name": "ipython",
    "version": 3
   },
   "file_extension": ".py",
   "mimetype": "text/x-python",
   "name": "python",
   "nbconvert_exporter": "python",
   "pygments_lexer": "ipython3",
   "version": "3.8.18"
  }
 },
 "nbformat": 4,
 "nbformat_minor": 2
}
