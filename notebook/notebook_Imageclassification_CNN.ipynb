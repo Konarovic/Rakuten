{
 "cells": [
  {
   "cell_type": "code",
   "execution_count": 36,
   "metadata": {},
   "outputs": [],
   "source": [
    "import pandas as pd\n",
    "import numpy as np\n",
    "import os\n",
    "from sklearn.model_selection import GridSearchCV\n",
    "\n",
    "import tensorflow as tf\n",
    "from tensorflow import keras\n",
    "\n",
    "import Rakuten_preprocessing as rkt\n",
    "from importlib import reload \n",
    "reload(rkt)\n",
    "\n",
    "from Rakuten_preprocessing import Rakuten_img_path"
   ]
  },
  {
   "cell_type": "markdown",
   "metadata": {},
   "source": [
    "## Loading the data"
   ]
  },
  {
   "cell_type": "code",
   "execution_count": 32,
   "metadata": {},
   "outputs": [],
   "source": [
    "folder_path = '../data/clean/'\n",
    "data = pd.read_csv(os.path.join(folder_path, 'X_train.csv'), index_col=0)\n",
    "target = pd.read_csv(os.path.join(folder_path, 'Y_train.csv'), index_col=0)\n",
    "prdtype = pd.read_csv('../data/prdtype.csv', index_col='prdtypecode')\n",
    "target = prdtype.loc[target['prdtypecode'], 'prdtypedesignation'].reset_index()"
   ]
  },
  {
   "cell_type": "code",
   "execution_count": 14,
   "metadata": {},
   "outputs": [
    {
     "data": {
      "text/html": [
       "<div>\n",
       "<style scoped>\n",
       "    .dataframe tbody tr th:only-of-type {\n",
       "        vertical-align: middle;\n",
       "    }\n",
       "\n",
       "    .dataframe tbody tr th {\n",
       "        vertical-align: top;\n",
       "    }\n",
       "\n",
       "    .dataframe thead th {\n",
       "        text-align: right;\n",
       "    }\n",
       "</style>\n",
       "<table border=\"1\" class=\"dataframe\">\n",
       "  <thead>\n",
       "    <tr style=\"text-align: right;\">\n",
       "      <th></th>\n",
       "      <th>prdtypecode</th>\n",
       "      <th>prdtypedesignation</th>\n",
       "    </tr>\n",
       "  </thead>\n",
       "  <tbody>\n",
       "    <tr>\n",
       "      <th>0</th>\n",
       "      <td>10</td>\n",
       "      <td>Livres occasion</td>\n",
       "    </tr>\n",
       "    <tr>\n",
       "      <th>1</th>\n",
       "      <td>2280</td>\n",
       "      <td>Magazines occasion</td>\n",
       "    </tr>\n",
       "    <tr>\n",
       "      <th>2</th>\n",
       "      <td>50</td>\n",
       "      <td>Accessoires gaming</td>\n",
       "    </tr>\n",
       "    <tr>\n",
       "      <th>3</th>\n",
       "      <td>1280</td>\n",
       "      <td>Jouets enfants</td>\n",
       "    </tr>\n",
       "    <tr>\n",
       "      <th>4</th>\n",
       "      <td>2705</td>\n",
       "      <td>Livres neufs</td>\n",
       "    </tr>\n",
       "    <tr>\n",
       "      <th>...</th>\n",
       "      <td>...</td>\n",
       "      <td>...</td>\n",
       "    </tr>\n",
       "    <tr>\n",
       "      <th>84911</th>\n",
       "      <td>40</td>\n",
       "      <td>Jeux vidéo CDs équipement</td>\n",
       "    </tr>\n",
       "    <tr>\n",
       "      <th>84912</th>\n",
       "      <td>2583</td>\n",
       "      <td>Piscines et accessoires</td>\n",
       "    </tr>\n",
       "    <tr>\n",
       "      <th>84913</th>\n",
       "      <td>2280</td>\n",
       "      <td>Magazines occasion</td>\n",
       "    </tr>\n",
       "    <tr>\n",
       "      <th>84914</th>\n",
       "      <td>1560</td>\n",
       "      <td>Mobilier</td>\n",
       "    </tr>\n",
       "    <tr>\n",
       "      <th>84915</th>\n",
       "      <td>2522</td>\n",
       "      <td>Fournitures de bureau</td>\n",
       "    </tr>\n",
       "  </tbody>\n",
       "</table>\n",
       "<p>84916 rows × 2 columns</p>\n",
       "</div>"
      ],
      "text/plain": [
       "       prdtypecode         prdtypedesignation\n",
       "0               10            Livres occasion\n",
       "1             2280         Magazines occasion\n",
       "2               50         Accessoires gaming\n",
       "3             1280             Jouets enfants\n",
       "4             2705               Livres neufs\n",
       "...            ...                        ...\n",
       "84911           40  Jeux vidéo CDs équipement\n",
       "84912         2583    Piscines et accessoires\n",
       "84913         2280         Magazines occasion\n",
       "84914         1560                   Mobilier\n",
       "84915         2522      Fournitures de bureau\n",
       "\n",
       "[84916 rows x 2 columns]"
      ]
     },
     "execution_count": 14,
     "metadata": {},
     "output_type": "execute_result"
    }
   ],
   "source": [
    "target"
   ]
  },
  {
   "cell_type": "code",
   "execution_count": 44,
   "metadata": {},
   "outputs": [],
   "source": [
    "from sklearn.preprocessing import LabelEncoder\n",
    "from sklearn.model_selection import train_test_split\n",
    "\n",
    "#Encoding classes as integers\n",
    "encoder = LabelEncoder()\n",
    "labels = encoder.fit_transform(target['prdtypedesignation'])\n",
    "\n",
    "img_paths = Rakuten_img_path(img_folder=r\"C:\\Users\\Julien Fournier\\Documents\\DST\\RakutenProject\\Data\\images\\image_train_resized\",\n",
    "                             imageid=data['imageid'], productid=data['productid'], suffix='_resized')\n",
    "\n",
    "data_img = pd.DataFrame({'labels': labels, 'img_path': img_paths})\n",
    "\n",
    "df_train, df_test = train_test_split(data_img, test_size=0.2, random_state=123)"
   ]
  },
  {
   "cell_type": "code",
   "execution_count": 45,
   "metadata": {},
   "outputs": [
    {
     "name": "stdout",
     "output_type": "stream",
     "text": [
      "Found 67932 validated image filenames.\n",
      "Found 16984 validated image filenames.\n"
     ]
    }
   ],
   "source": [
    "from keras.preprocessing.image import ImageDataGenerator\n",
    "from keras.applications.vgg16 import preprocess_input\n",
    "\n",
    "#Data generator for the train and test sets\n",
    "train_data_generator = ImageDataGenerator(preprocessing_function=preprocess_input,\n",
    "                                          rotation_range=20, width_shift_range=0.1, height_shift_range=0.1,\n",
    "                                          zoom_range=0.1, horizontal_flip = True)\n",
    "\n",
    "test_data_generator = ImageDataGenerator(preprocessing_function=preprocess_input)\n",
    "\n",
    "train_generator = train_data_generator.flow_from_dataframe(dataframe=df_train, x_col='img_path', y_col='labels',\n",
    "                                                           class_mode='raw', target_size=(224, 224),\n",
    "                                                           batch_size=64)\n",
    "\n",
    "test_generator = test_data_generator.flow_from_dataframe(dataframe=df_test, x_col='img_path', y_col='labels',\n",
    "                                                           class_mode='raw', target_size=(224, 224),\n",
    "                                                           batch_size=64)"
   ]
  },
  {
   "cell_type": "code",
   "execution_count": 52,
   "metadata": {},
   "outputs": [
    {
     "name": "stdout",
     "output_type": "stream",
     "text": [
      "Model: \"sequential_2\"\n",
      "_________________________________________________________________\n",
      " Layer (type)                Output Shape              Param #   \n",
      "=================================================================\n",
      " conv2d_2 (Conv2D)           (None, 220, 220, 64)      4864      \n",
      "                                                                 \n",
      " max_pooling2d_2 (MaxPoolin  (None, 110, 110, 64)      0         \n",
      " g2D)                                                            \n",
      "                                                                 \n",
      " dropout_2 (Dropout)         (None, 110, 110, 64)      0         \n",
      "                                                                 \n",
      " flatten_2 (Flatten)         (None, 774400)            0         \n",
      "                                                                 \n",
      " dense_2 (Dense)             (None, 27)                20908827  \n",
      "                                                                 \n",
      "=================================================================\n",
      "Total params: 20913691 (79.78 MB)\n",
      "Trainable params: 20913691 (79.78 MB)\n",
      "Non-trainable params: 0 (0.00 Byte)\n",
      "_________________________________________________________________\n"
     ]
    }
   ],
   "source": [
    "from keras.layers import Input, Conv2D, Dense, MaxPooling2D, Dropout, Flatten\n",
    "from keras.models import Sequential, Model\n",
    "from keras import regularizers\n",
    "\n",
    "num_class = len(np.unique(labels))\n",
    "\n",
    "model = Sequential()\n",
    "model.add(Conv2D(filters=64, input_shape=(224, 224, 3), kernel_size=(5,5), padding='valid', activation='relu', kernel_regularizer=regularizers.l2(0.0001)))\n",
    "model.add(MaxPooling2D(pool_size = (2, 2), strides=2, padding='valid'))\n",
    "model.add(Dropout(rate=0.5))\n",
    "model.add(Flatten())\n",
    "model.add(Dense(units=num_class, activation='softmax'))\n",
    "\n",
    "model.compile(optimizer='adam', loss='sparse_categorical_crossentropy', metrics=['accuracy'])\n",
    "model.summary()"
   ]
  },
  {
   "cell_type": "code",
   "execution_count": 53,
   "metadata": {},
   "outputs": [
    {
     "name": "stdout",
     "output_type": "stream",
     "text": [
      "Epoch 1/2\n",
      "WARNING:tensorflow:From c:\\ProgramData\\anaconda3\\envs\\Rakuten\\Lib\\site-packages\\keras\\src\\utils\\tf_utils.py:492: The name tf.ragged.RaggedTensorValue is deprecated. Please use tf.compat.v1.ragged.RaggedTensorValue instead.\n",
      "\n",
      "WARNING:tensorflow:From c:\\ProgramData\\anaconda3\\envs\\Rakuten\\Lib\\site-packages\\keras\\src\\engine\\base_layer_utils.py:384: The name tf.executing_eagerly_outside_functions is deprecated. Please use tf.compat.v1.executing_eagerly_outside_functions instead.\n",
      "\n",
      "1062/1062 [==============================] - 1571s 1s/step - loss: 582.5247 - accuracy: 0.0943 - val_loss: 361.6511 - val_accuracy: 0.1256\n",
      "Epoch 2/2\n",
      "1062/1062 [==============================] - 951s 895ms/step - loss: 284.8131 - accuracy: 0.0991 - val_loss: 205.7016 - val_accuracy: 0.1395\n"
     ]
    }
   ],
   "source": [
    "history = model.fit(x=train_generator, validation_data=test_generator, epochs=2, verbose=True)"
   ]
  },
  {
   "cell_type": "code",
   "execution_count": null,
   "metadata": {},
   "outputs": [],
   "source": []
  }
 ],
 "metadata": {
  "kernelspec": {
   "display_name": "Rakuten",
   "language": "python",
   "name": "python3"
  },
  "language_info": {
   "codemirror_mode": {
    "name": "ipython",
    "version": 3
   },
   "file_extension": ".py",
   "mimetype": "text/x-python",
   "name": "python",
   "nbconvert_exporter": "python",
   "pygments_lexer": "ipython3",
   "version": "3.11.7"
  }
 },
 "nbformat": 4,
 "nbformat_minor": 2
}
