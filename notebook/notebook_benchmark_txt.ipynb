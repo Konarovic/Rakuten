{
 "cells": [
  {
   "cell_type": "code",
   "execution_count": 1,
   "metadata": {},
   "outputs": [
    {
     "name": "stderr",
     "output_type": "stream",
     "text": [
      "2024-03-09 18:22:41.598399: I tensorflow/core/util/port.cc:113] oneDNN custom operations are on. You may see slightly different numerical results due to floating-point round-off errors from different computation orders. To turn them off, set the environment variable `TF_ENABLE_ONEDNN_OPTS=0`.\n",
      "2024-03-09 18:22:41.628608: E external/local_xla/xla/stream_executor/cuda/cuda_dnn.cc:9261] Unable to register cuDNN factory: Attempting to register factory for plugin cuDNN when one has already been registered\n",
      "2024-03-09 18:22:41.628637: E external/local_xla/xla/stream_executor/cuda/cuda_fft.cc:607] Unable to register cuFFT factory: Attempting to register factory for plugin cuFFT when one has already been registered\n",
      "2024-03-09 18:22:41.629261: E external/local_xla/xla/stream_executor/cuda/cuda_blas.cc:1515] Unable to register cuBLAS factory: Attempting to register factory for plugin cuBLAS when one has already been registered\n",
      "2024-03-09 18:22:41.633721: I tensorflow/core/platform/cpu_feature_guard.cc:182] This TensorFlow binary is optimized to use available CPU instructions in performance-critical operations.\n",
      "To enable the following instructions: AVX2 AVX_VNNI FMA, in other operations, rebuild TensorFlow with the appropriate compiler flags.\n",
      "2024-03-09 18:22:42.179664: W tensorflow/compiler/tf2tensorrt/utils/py_utils.cc:38] TF-TRT Warning: Could not find TensorRT\n",
      "/home/jul/anaconda3/envs/Rakuten/lib/python3.11/site-packages/tqdm/auto.py:21: TqdmWarning:\n",
      "\n",
      "IProgress not found. Please update jupyter and ipywidgets. See https://ipywidgets.readthedocs.io/en/stable/user_install.html\n",
      "\n",
      "/home/jul/anaconda3/envs/Rakuten/lib/python3.11/site-packages/paramiko/transport.py:219: CryptographyDeprecationWarning:\n",
      "\n",
      "Blowfish has been deprecated\n",
      "\n"
     ]
    }
   ],
   "source": [
    "import os\n",
    "import sys\n",
    "projectDir = '/mnt/c/Documents and Settings/justj/Documents/GitHub/RakutenTeam'\n",
    "sys.path.append(projectDir)\n",
    "\n",
    "import multiprocessing\n",
    "num_cores = multiprocessing.cpu_count()\n",
    "\n",
    "import src.config as config\n",
    "config.path_to_project = projectDir\n",
    "config.path_to_data = os.path.join(projectDir, 'data', 'clean')\n",
    "config.path_to_results = os.path.join(projectDir, 'results')\n",
    "config.path_to_images = '/home/jul/DST/Rakuten/Data/images/image_train_resized'\n",
    "config.path_to_models = '/mnt/c/Documents and Settings/justj/Documents/DST/RakutenProject/models'\n",
    "\n",
    "\n",
    "import pandas as pd\n",
    "import numpy as np\n",
    "from sklearn.model_selection import GridSearchCV, StratifiedKFold\n",
    "\n",
    "import tensorflow as tf\n",
    "\n",
    "from Rakuten_preprocessing import Rakuten_img_path\n",
    "\n",
    "from src.text.classifiers import MLClassifier\n",
    "from src.utils.plot import classification_results\n",
    "\n",
    "from sklearn.metrics import f1_score"
   ]
  },
  {
   "cell_type": "code",
   "execution_count": 2,
   "metadata": {},
   "outputs": [],
   "source": [
    "data_train = pd.read_csv(os.path.join(config.path_to_data, 'df_train_index.csv'))\n",
    "data_train['testset'] = False\n",
    "data_test = pd.read_csv(os.path.join(config.path_to_data, 'df_test_index.csv'))\n",
    "data_test['testset'] = True\n",
    "data = pd.concat([data_train, data_test], axis=0)\n",
    "\n",
    "#merging text into token column\n",
    "colnames = ['designation_translated', 'description_translated'] #['designation', 'description']#\n",
    "data['tokens'] = data[colnames].apply(lambda row: ' '.join(s.lower() for s in row if isinstance(s, str)), axis=1)\n",
    "\n",
    "#path to images into img_path column\n",
    "data['img_path'] = Rakuten_img_path(img_folder=config.path_to_images,\n",
    "                             imageid=data['imageid'], productid=data['productid'], suffix='_resized')"
   ]
  },
  {
   "cell_type": "code",
   "execution_count": 3,
   "metadata": {},
   "outputs": [],
   "source": [
    "#labels of encoded classes\n",
    "class_labels = data.groupby('prdtypedesignation')['prdtypeindex'].first().reset_index()\n",
    "class_labels.index = class_labels['prdtypeindex']\n",
    "class_labels = class_labels.drop(columns='prdtypeindex').sort_index()"
   ]
  },
  {
   "cell_type": "markdown",
   "metadata": {},
   "source": [
    "## Creating train and test sets"
   ]
  },
  {
   "cell_type": "code",
   "execution_count": 4,
   "metadata": {},
   "outputs": [],
   "source": [
    "Img_train = data.loc[~data['testset'], 'img_path']\n",
    "Img_test = data.loc[data['testset'], 'img_path']\n",
    "\n",
    "Txt_train = data.loc[~data['testset'], 'tokens']\n",
    "Txt_test = data.loc[data['testset'], 'tokens']\n",
    "\n",
    "y_train = data.loc[~data['testset'],'prdtypeindex']\n",
    "y_test = data.loc[data['testset'],'prdtypeindex']\n",
    "\n",
    "#To be fed into any of our sklearn classifiers, X_train and X_test\n",
    "#should be dataframes with columns tokens and img_path\n",
    "X_train = pd.DataFrame({'tokens': Txt_train, 'img_path': Img_train})\n",
    "X_test = pd.DataFrame({'tokens': Txt_test, 'img_path': Img_test})\n",
    "\n",
    "#All data for cross-validated scores\n",
    "X = pd.concat([X_train, X_test], axis=0)\n",
    "y = pd.concat([y_train, y_test], axis=0)\n",
    "\n",
    "#Number of classes\n",
    "num_classes = len(np.unique(data['prdtypeindex']))"
   ]
  },
  {
   "cell_type": "markdown",
   "metadata": {},
   "source": [
    "## Dummy classifier"
   ]
  },
  {
   "cell_type": "code",
   "execution_count": null,
   "metadata": {},
   "outputs": [],
   "source": [
    "#Dummy classifier on tfidf\n",
    "dum_classifier = MLClassifier(base_name='dummyclassifier')\n",
    "dum_classifier.fit(X_train, y_train);\n",
    "dum_classifier.classification_score(X_test, y_test)\n",
    "cv_scores = dum_classifier.cross_validate(X, y, cv=10)\n",
    "dum_classifier.save('benchmark_txt/dummy')"
   ]
  },
  {
   "cell_type": "code",
   "execution_count": 24,
   "metadata": {},
   "outputs": [],
   "source": [
    "if not os.path.exists(config.path_to_results):\n",
    "    os.makedirs(config.path_to_results)\n",
    "            \n",
    "def fit_save_all(params_list, cv_grid = 5, cv = 10, result_file_name = 'results.csv'):\n",
    "    results_path = os.path.join(config.path_to_results, result_file_name)\n",
    "    \n",
    "    #If results.csv doesn't exist, we create it\n",
    "    if not os.path.isfile(results_path):\n",
    "        df_results = pd.DataFrame(columns=['modality', 'vectorization', 'classifier', 'tested_params', \n",
    "                                           'best_params','score_test', 'score_cv_test', 'score_cv_train', 'fit_cv_time',\n",
    "                                           'model_path'])\n",
    "        # df_results = df_results.astype({'modality': 'object', 'vectorization': 'object', 'classifier': 'object', \n",
    "        #                                 'test_parameters': 'object', 'best_values': 'object', 'score_test': float, \n",
    "        #                                 'score_cv':'float', 'score_train':'float', 'fit_time':'float'})\n",
    "        df_results.to_csv(results_path)\n",
    "\n",
    "    cvsplitter = StratifiedKFold(n_splits=cv_grid, shuffle=True, random_state=123)\n",
    "    for params in params_list:\n",
    "        #Populating results with parameters\n",
    "        results = {'modality': params['modality'], 'class': params['class'], 'classifier': params['base_name'],\n",
    "                   'vectorization': params['vec_method'], 'tested_params': params['param_grid']}\n",
    "        \n",
    "        #GridsearCV on one parameter\n",
    "        print('Fitting: ', params['base_name'], params['vec_method'])\n",
    "        clf = MLClassifier(base_name=params['base_name'], vec_method=params['vec_method'])\n",
    "        param_grid = params['param_grid']\n",
    "        \n",
    "        if cvsplitter is not None:\n",
    "            gridcv = GridSearchCV(estimator=clf, param_grid=param_grid, scoring='f1_weighted', cv=cvsplitter)\n",
    "            gridcv.fit(X_train, y_train)\n",
    "            print('GridSearch: ', gridcv.best_params_)\n",
    "            \n",
    "            #saving best params\n",
    "            results['best_params'] = gridcv.best_params_\n",
    "            \n",
    "            #Keeping the best parameter\n",
    "            clf = gridcv.best_estimator_\n",
    "        else:\n",
    "            clf.fit(X_train, y_train)\n",
    "            results['best_params'] = np.nan\n",
    "        \n",
    "        #Calculating scores on the test set\n",
    "        f1score_test = clf.classification_score(X_test, y_test)\n",
    "        print('Test set, f1score: ', f1score_test)\n",
    "        \n",
    "        #saving f1score_test\n",
    "        results['score_test'] = f1score_test\n",
    "        \n",
    "        #Calculating score by k-fold cross-validation\n",
    "        f1score_cv = clf.cross_validate(X, y, cv=cv)\n",
    "        print('CV f1score: ', f1score_cv)\n",
    "        \n",
    "        #saving CV f1score on test, train and fit time\n",
    "        results['score_cv_test'] = clf.cv_scores['test_score']\n",
    "        results['score_cv_train'] = clf.cv_scores['train_score']\n",
    "        results['fit_cv_time'] = clf.cv_scores['fit_time']\n",
    "        \n",
    "        #Saving the model (trained on training set only)\n",
    "        model_path = params['modality'] + '/' + params['base_name'] + '_' + params['vec_method']\n",
    "        clf.save(model_path)\n",
    "        \n",
    "        #saving where the model is saved\n",
    "        results['model_path'] = model_path\n",
    "        \n",
    "        #Loading results.csv, adding line and saving it\n",
    "        #Loading results.csv\n",
    "        df_results = pd.read_csv(results_path, index_col=0)\n",
    "        df_results.loc[len(df_results)] = results\n",
    "        df_results.to_csv(results_path)"
   ]
  },
  {
   "cell_type": "code",
   "execution_count": 22,
   "metadata": {},
   "outputs": [
    {
     "data": {
      "text/html": [
       "<div>\n",
       "<style scoped>\n",
       "    .dataframe tbody tr th:only-of-type {\n",
       "        vertical-align: middle;\n",
       "    }\n",
       "\n",
       "    .dataframe tbody tr th {\n",
       "        vertical-align: top;\n",
       "    }\n",
       "\n",
       "    .dataframe thead th {\n",
       "        text-align: right;\n",
       "    }\n",
       "</style>\n",
       "<table border=\"1\" class=\"dataframe\">\n",
       "  <thead>\n",
       "    <tr style=\"text-align: right;\">\n",
       "      <th></th>\n",
       "      <th>modality</th>\n",
       "      <th>vectorization</th>\n",
       "      <th>classifier</th>\n",
       "      <th>tested_params</th>\n",
       "      <th>best_params</th>\n",
       "      <th>score_test</th>\n",
       "      <th>score_cv_test</th>\n",
       "      <th>score_cv_train</th>\n",
       "      <th>fit_cv_time</th>\n",
       "      <th>model_path</th>\n",
       "    </tr>\n",
       "  </thead>\n",
       "  <tbody>\n",
       "    <tr>\n",
       "      <th>0</th>\n",
       "      <td>text</td>\n",
       "      <td>tfidf</td>\n",
       "      <td>LinearSVC</td>\n",
       "      <td>{'C': array([0.9, 1. , 1.1]), 'penalty': ['l2'...</td>\n",
       "      <td>{'C': 0.9, 'dual': 'auto', 'penalty': 'l2'}</td>\n",
       "      <td>0.825805</td>\n",
       "      <td>[0.8211819  0.82424724 0.8245079  0.82306479 0...</td>\n",
       "      <td>[0.98150768 0.98217348 0.98224738 0.98188303 0...</td>\n",
       "      <td>[7.7058816  7.7486496  7.92781711 7.51118326 7...</td>\n",
       "      <td>benchmark_txt/w2v_LinearSVC</td>\n",
       "    </tr>\n",
       "  </tbody>\n",
       "</table>\n",
       "</div>"
      ],
      "text/plain": [
       "  modality vectorization classifier  \\\n",
       "0     text         tfidf  LinearSVC   \n",
       "\n",
       "                                       tested_params  \\\n",
       "0  {'C': array([0.9, 1. , 1.1]), 'penalty': ['l2'...   \n",
       "\n",
       "                                   best_params  score_test  \\\n",
       "0  {'C': 0.9, 'dual': 'auto', 'penalty': 'l2'}    0.825805   \n",
       "\n",
       "                                       score_cv_test  \\\n",
       "0  [0.8211819  0.82424724 0.8245079  0.82306479 0...   \n",
       "\n",
       "                                      score_cv_train  \\\n",
       "0  [0.98150768 0.98217348 0.98224738 0.98188303 0...   \n",
       "\n",
       "                                         fit_cv_time  \\\n",
       "0  [7.7058816  7.7486496  7.92781711 7.51118326 7...   \n",
       "\n",
       "                    model_path  \n",
       "0  benchmark_txt/w2v_LinearSVC  "
      ]
     },
     "execution_count": 22,
     "metadata": {},
     "output_type": "execute_result"
    }
   ],
   "source": [
    "results_path = os.path.join(config.path_to_results, 'results.csv')\n",
    "df_results = pd.read_csv(results_path, index_col=0)\n",
    "df_results.head()"
   ]
  },
  {
   "cell_type": "markdown",
   "metadata": {},
   "source": [
    "## Bag of word based benchmarks"
   ]
  },
  {
   "cell_type": "code",
   "execution_count": 26,
   "metadata": {},
   "outputs": [
    {
     "name": "stdout",
     "output_type": "stream",
     "text": [
      "Fitting:  LinearSVC skipgram\n"
     ]
    }
   ],
   "source": [
    "save_prefix = 'benchmark_txt/w2v_'\n",
    "params_list = []\n",
    "# params_list.append({'base_name': 'LinearSVC', \n",
    "#                     'vec_method': 'tfidf', \n",
    "#                     'param_grid': {'C': np.arange(0.9, 1.1, 0.1), 'penalty': ['l2'], 'dual': ['auto']}\n",
    "#                     })\n",
    "params_list.append({'base_name': 'LinearSVC',\n",
    "                    'vec_method': 'skipgram',\n",
    "                    'param_grid': {'C': [1, 5, 10], 'kernel': ['rbf'], 'vec_params':[{'workers': num_cores-1, 'vector_size': 256}]}\n",
    "                    })\n",
    "fit_save_all(params_list, save_prefix=save_prefix, cv_grid=5, cv=5, result_file_name = 'results.csv')"
   ]
  },
  {
   "cell_type": "code",
   "execution_count": 7,
   "metadata": {},
   "outputs": [
    {
     "data": {
      "text/plain": [
       "0.8129309414789236"
      ]
     },
     "execution_count": 7,
     "metadata": {},
     "output_type": "execute_result"
    }
   ],
   "source": [
    "#Logistic regression on tfidf\n",
    "lr_bow_classifier = MLClassifier(base_name='LogisticRegression', vec_method = 'tfidf', C=2, penalty='l2', max_iter=1000, dual=False)\n",
    "lr_bow_classifier.fit(X_train, y_train);\n",
    "lr_bow_classifier.classification_score(X_test, y_test)\n",
    "cv_scores = lr_bow_classifier.cross_validate(X, y, cv=10)\n",
    "lr_bow_classifier.save('benchmark_txt/w2w/logistic')"
   ]
  },
  {
   "cell_type": "code",
   "execution_count": 8,
   "metadata": {},
   "outputs": [
    {
     "data": {
      "text/plain": [
       "0.771265410675905"
      ]
     },
     "execution_count": 8,
     "metadata": {},
     "output_type": "execute_result"
    }
   ],
   "source": [
    "#Naive Bayes on tfidf\n",
    "nb_bow_classifier = MLClassifier(base_name='MultinomialNB', vec_method = 'tfidf', alpha=0.02, fit_prior=True)\n",
    "nb_bow_classifier.fit(X_train, y_train);\n",
    "nb_bow_classifier.classification_score(X_test, y_test)"
   ]
  },
  {
   "cell_type": "code",
   "execution_count": null,
   "metadata": {},
   "outputs": [],
   "source": [
    "#Random forest on tfidf\n",
    "rf_w2v_classifier = MLClassifier(base_name='RandomForestClassifier', vec_method = 'tfidf', n_estimators=100, criterion='gini', max_depth=500)\n",
    "rf_w2v_classifier.fit(X_train, y_train);\n",
    "rf_w2v_classifier.classification_score(X_test, y_test)"
   ]
  },
  {
   "cell_type": "code",
   "execution_count": null,
   "metadata": {},
   "outputs": [
    {
     "data": {
      "text/plain": [
       "0.8193118067053706"
      ]
     },
     "execution_count": 5,
     "metadata": {},
     "output_type": "execute_result"
    }
   ],
   "source": [
    "#xgboost on tfidf\n",
    "xgb_bow_classifier = MLClassifier(base_name='xgboost', vec_method = 'tfidf', n_estimators=200, objective='multi:softprob',max_depth=6, reg_alpha=0)\n",
    "xgb_bow_classifier.fit(X_train, y_train);\n",
    "xgb_bow_classifier.classification_score(X_test, y_test)"
   ]
  },
  {
   "cell_type": "code",
   "execution_count": null,
   "metadata": {},
   "outputs": [
    {
     "data": {
      "text/plain": [
       "0.7154932395658148"
      ]
     },
     "execution_count": 5,
     "metadata": {},
     "output_type": "execute_result"
    }
   ],
   "source": [
    "#Linear SVC on tfidf\n",
    "svc_bow_classifier = MLClassifier(base_name='LinearSVC', vec_method = 'tfidf', C=1, penalty='l2', dual='auto')\n",
    "svc_bow_classifier.fit(X_train, y_train);\n",
    "svc_bow_classifier.classification_score(X_test, y_test)\n",
    "# cv_scores = svc_classifier.cross_validate(X, y, cv=10)"
   ]
  },
  {
   "cell_type": "markdown",
   "metadata": {},
   "source": [
    "## Word2Vec based benchmarks"
   ]
  },
  {
   "cell_type": "code",
   "execution_count": 13,
   "metadata": {},
   "outputs": [
    {
     "data": {
      "text/plain": [
       "0.8132613511229633"
      ]
     },
     "execution_count": 13,
     "metadata": {},
     "output_type": "execute_result"
    }
   ],
   "source": [
    "#SVC on tfidf\n",
    "svc_w2v_classifier = MLClassifier(base_name='SVC', C=10, kernel='rbf', vec_method = 'skipgram', vec_params={'workers': num_cores-1, 'vector_size': 512})\n",
    "svc_w2v_classifier.fit(X_train, y_train);\n",
    "svc_w2v_classifier.classification_score(X_test, y_test)\n",
    "cv_scores = svc_w2v_classifier.cross_validate(X, y, cv=10)\n",
    "svc_w2v_classifier.save('benchmark_w2w/svc_skipgram')"
   ]
  },
  {
   "cell_type": "code",
   "execution_count": 16,
   "metadata": {},
   "outputs": [],
   "source": [
    "svc_w2v_classifier.load('benchmark_w2w/svc_skipgram')"
   ]
  },
  {
   "cell_type": "code",
   "execution_count": 17,
   "metadata": {},
   "outputs": [
    {
     "data": {
      "text/plain": [
       "0.8132613511229633"
      ]
     },
     "execution_count": 17,
     "metadata": {},
     "output_type": "execute_result"
    }
   ],
   "source": [
    "svc_w2v_classifier.f1score"
   ]
  },
  {
   "cell_type": "code",
   "execution_count": null,
   "metadata": {},
   "outputs": [],
   "source": []
  }
 ],
 "metadata": {
  "kernelspec": {
   "display_name": "Rakuten",
   "language": "python",
   "name": "python3"
  },
  "language_info": {
   "codemirror_mode": {
    "name": "ipython",
    "version": 3
   },
   "file_extension": ".py",
   "mimetype": "text/x-python",
   "name": "python",
   "nbconvert_exporter": "python",
   "pygments_lexer": "ipython3",
   "version": "3.11.7"
  }
 },
 "nbformat": 4,
 "nbformat_minor": 2
}
