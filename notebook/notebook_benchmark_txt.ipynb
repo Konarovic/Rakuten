{
 "cells": [
  {
   "cell_type": "code",
   "execution_count": 1,
   "metadata": {},
   "outputs": [
    {
     "name": "stderr",
     "output_type": "stream",
     "text": [
      "2024-03-09 18:22:41.598399: I tensorflow/core/util/port.cc:113] oneDNN custom operations are on. You may see slightly different numerical results due to floating-point round-off errors from different computation orders. To turn them off, set the environment variable `TF_ENABLE_ONEDNN_OPTS=0`.\n",
      "2024-03-09 18:22:41.628608: E external/local_xla/xla/stream_executor/cuda/cuda_dnn.cc:9261] Unable to register cuDNN factory: Attempting to register factory for plugin cuDNN when one has already been registered\n",
      "2024-03-09 18:22:41.628637: E external/local_xla/xla/stream_executor/cuda/cuda_fft.cc:607] Unable to register cuFFT factory: Attempting to register factory for plugin cuFFT when one has already been registered\n",
      "2024-03-09 18:22:41.629261: E external/local_xla/xla/stream_executor/cuda/cuda_blas.cc:1515] Unable to register cuBLAS factory: Attempting to register factory for plugin cuBLAS when one has already been registered\n",
      "2024-03-09 18:22:41.633721: I tensorflow/core/platform/cpu_feature_guard.cc:182] This TensorFlow binary is optimized to use available CPU instructions in performance-critical operations.\n",
      "To enable the following instructions: AVX2 AVX_VNNI FMA, in other operations, rebuild TensorFlow with the appropriate compiler flags.\n",
      "2024-03-09 18:22:42.179664: W tensorflow/compiler/tf2tensorrt/utils/py_utils.cc:38] TF-TRT Warning: Could not find TensorRT\n",
      "/home/jul/anaconda3/envs/Rakuten/lib/python3.11/site-packages/tqdm/auto.py:21: TqdmWarning:\n",
      "\n",
      "IProgress not found. Please update jupyter and ipywidgets. See https://ipywidgets.readthedocs.io/en/stable/user_install.html\n",
      "\n",
      "/home/jul/anaconda3/envs/Rakuten/lib/python3.11/site-packages/paramiko/transport.py:219: CryptographyDeprecationWarning:\n",
      "\n",
      "Blowfish has been deprecated\n",
      "\n"
     ]
    }
   ],
   "source": [
    "import os\n",
    "import sys\n",
    "projectDir = '/mnt/c/Documents and Settings/justj/Documents/GitHub/RakutenTeam'\n",
    "sys.path.append(projectDir)\n",
    "\n",
    "import multiprocessing\n",
    "num_cores = multiprocessing.cpu_count()\n",
    "\n",
    "import src.config as config\n",
    "config.path_to_project = projectDir\n",
    "config.path_to_data = os.path.join(projectDir, 'data', 'clean')\n",
    "config.path_to_results = os.path.join(projectDir, 'results')\n",
    "config.path_to_images = '/home/jul/DST/Rakuten/Data/images/image_train_resized'\n",
    "config.path_to_models = '/mnt/c/Documents and Settings/justj/Documents/DST/RakutenProject/models'\n",
    "\n",
    "\n",
    "import pandas as pd\n",
    "import numpy as np\n",
    "from sklearn.model_selection import GridSearchCV, StratifiedKFold\n",
    "\n",
    "import tensorflow as tf\n",
    "\n",
    "from Rakuten_preprocessing import Rakuten_img_path\n",
    "\n",
    "from src.text.classifiers import MLClassifier\n",
    "from src.utils.plot import classification_results\n",
    "\n",
    "from sklearn.metrics import f1_score"
   ]
  },
  {
   "cell_type": "code",
   "execution_count": 2,
   "metadata": {},
   "outputs": [],
   "source": [
    "data_train = pd.read_csv(os.path.join(config.path_to_data, 'df_train_index.csv'))\n",
    "data_train['testset'] = False\n",
    "data_test = pd.read_csv(os.path.join(config.path_to_data, 'df_test_index.csv'))\n",
    "data_test['testset'] = True\n",
    "data = pd.concat([data_train, data_test], axis=0)\n",
    "\n",
    "#merging text into token column\n",
    "colnames = ['designation_translated', 'description_translated'] #['designation', 'description']#\n",
    "data['tokens'] = data[colnames].apply(lambda row: ' '.join(s.lower() for s in row if isinstance(s, str)), axis=1)\n",
    "\n",
    "#path to images into img_path column\n",
    "data['img_path'] = Rakuten_img_path(img_folder=config.path_to_images,\n",
    "                             imageid=data['imageid'], productid=data['productid'], suffix='_resized')"
   ]
  },
  {
   "cell_type": "code",
   "execution_count": 3,
   "metadata": {},
   "outputs": [],
   "source": [
    "#labels of encoded classes\n",
    "class_labels = data.groupby('prdtypedesignation')['prdtypeindex'].first().reset_index()\n",
    "class_labels.index = class_labels['prdtypeindex']\n",
    "class_labels = class_labels.drop(columns='prdtypeindex').sort_index()"
   ]
  },
  {
   "cell_type": "markdown",
   "metadata": {},
   "source": [
    "## Creating train and test sets"
   ]
  },
  {
   "cell_type": "code",
   "execution_count": 4,
   "metadata": {},
   "outputs": [],
   "source": [
    "Img_train = data.loc[~data['testset'], 'img_path']\n",
    "Img_test = data.loc[data['testset'], 'img_path']\n",
    "\n",
    "Txt_train = data.loc[~data['testset'], 'tokens']\n",
    "Txt_test = data.loc[data['testset'], 'tokens']\n",
    "\n",
    "y_train = data.loc[~data['testset'],'prdtypeindex']\n",
    "y_test = data.loc[data['testset'],'prdtypeindex']\n",
    "\n",
    "#To be fed into any of our sklearn classifiers, X_train and X_test\n",
    "#should be dataframes with columns tokens and img_path\n",
    "X_train = pd.DataFrame({'tokens': Txt_train, 'img_path': Img_train})\n",
    "X_test = pd.DataFrame({'tokens': Txt_test, 'img_path': Img_test})\n",
    "\n",
    "#All data for cross-validated scores\n",
    "X = pd.concat([X_train, X_test], axis=0)\n",
    "y = pd.concat([y_train, y_test], axis=0)\n",
    "\n",
    "#Number of classes\n",
    "num_classes = len(np.unique(data['prdtypeindex']))"
   ]
  },
  {
   "cell_type": "markdown",
   "metadata": {},
   "source": [
    "## Dummy classifier"
   ]
  },
  {
   "cell_type": "code",
   "execution_count": null,
   "metadata": {},
   "outputs": [],
   "source": [
    "#Dummy classifier on tfidf\n",
    "dum_classifier = MLClassifier(base_name='dummyclassifier')\n",
    "dum_classifier.fit(X_train, y_train);\n",
    "dum_classifier.classification_score(X_test, y_test)\n",
    "cv_scores = dum_classifier.cross_validate(X, y, cv=10)\n",
    "dum_classifier.save('text/dummy')"
   ]
  },
  {
   "cell_type": "markdown",
   "metadata": {},
   "source": [
    "## Function to batch models"
   ]
  },
  {
   "cell_type": "code",
   "execution_count": 58,
   "metadata": {},
   "outputs": [],
   "source": [
    "if not os.path.exists(config.path_to_results):\n",
    "    os.makedirs(config.path_to_results)\n",
    "            \n",
    "def fit_save_all(params_list, result_file_name = 'results.csv'):\n",
    "    results_path = os.path.join(config.path_to_results, result_file_name)\n",
    "    \n",
    "    #If results.csv doesn't exist, we create it\n",
    "    if not os.path.isfile(results_path):\n",
    "        df_results = pd.DataFrame(columns=['modality', 'vectorization', 'classifier', 'tested_params', \n",
    "                                           'best_params','score_test', 'score_cv_test', 'score_cv_train', 'fit_cv_time',\n",
    "                                           'model_path'])\n",
    "        df_results.to_csv(results_path)\n",
    "\n",
    "    for params in params_list:\n",
    "        #Populating results with parameters\n",
    "        results = {'modality': params['modality'], 'class': params['class'], 'classifier': params['base_name'],\n",
    "                   'vectorization': params['vec_method'], 'tested_params': params['param_grid']}\n",
    "        \n",
    "        #GridsearCV on one parameter\n",
    "        print('Fitting: ', params['base_name'], params['vec_method'])\n",
    "        \n",
    "        #Fetching first params of list in param_grid in case no GridSearchCV\n",
    "        #is requested\n",
    "        clf_params = {}\n",
    "        for key in params['param_grid'].keys():\n",
    "            clf_params[key] = params['param_grid'][key][0]\n",
    "        print(clf_params)   \n",
    "         \n",
    "        clf = MLClassifier(base_name=params['base_name'], vec_method=params['vec_method'], **clf_params)\n",
    "        param_grid = params['param_grid']\n",
    "        \n",
    "        if params['nfolds_grid'] > 0:\n",
    "            cvsplitter = StratifiedKFold(n_splits=params['nfolds_grid'], shuffle=True, random_state=123)\n",
    "        else:\n",
    "            cvsplitter = None\n",
    "        \n",
    "        if cvsplitter is not None:\n",
    "            gridcv = GridSearchCV(estimator=clf, param_grid=param_grid, scoring='f1_weighted', cv=cvsplitter)\n",
    "            gridcv.fit(X_train, y_train)\n",
    "            print('GridSearch: ', gridcv.best_params_)\n",
    "            \n",
    "            #saving best params\n",
    "            results['best_params'] = gridcv.best_params_\n",
    "            \n",
    "            #Keeping the best parameter\n",
    "            clf = gridcv.best_estimator_\n",
    "        else:\n",
    "            clf.fit(X_train, y_train)\n",
    "            results['best_params'] = np.nan\n",
    "        \n",
    "        #Calculating scores on the test set\n",
    "        f1score_test = clf.classification_score(X_test, y_test)\n",
    "        print('Test set, f1score: ', f1score_test)\n",
    "        \n",
    "        #saving f1score_test\n",
    "        results['score_test'] = f1score_test\n",
    "        \n",
    "        #Calculating score by k-fold cross-validation\n",
    "        if params['nfolds_cv'] > 0:\n",
    "            f1score_cv = clf.cross_validate(X, y, cv=params['nfolds_cv'])\n",
    "            print('CV f1score: ', f1score_cv)\n",
    "        \n",
    "            #saving CV f1score on test, train and fit time\n",
    "            results['score_cv_test'] = clf.cv_scores['test_score']\n",
    "            results['score_cv_train'] = clf.cv_scores['train_score']\n",
    "            results['fit_cv_time'] = clf.cv_scores['fit_time']\n",
    "        else:\n",
    "            results['score_cv_test'] = np.nan\n",
    "            results['score_cv_train'] = np.nan\n",
    "            results['fit_cv_time'] = np.nan\n",
    "        \n",
    "        #Saving the model (trained on training set only)\n",
    "        model_path = params['modality'] + '/' + params['base_name'] + '_' + params['vec_method']\n",
    "        clf.save(model_path)\n",
    "        \n",
    "        #saving where the model is saved\n",
    "        results['model_path'] = model_path\n",
    "        \n",
    "        #Loading results.csv, adding line and saving it\n",
    "        #Loading results.csv\n",
    "        df_results = pd.read_csv(results_path, index_col=0)\n",
    "        for col in df_results.columns:\n",
    "            if col not in results.keys():\n",
    "                results[col] = np.nan\n",
    "        df_results.loc[len(df_results)] = results\n",
    "        df_results.to_csv(results_path)\n",
    "    return results"
   ]
  },
  {
   "cell_type": "markdown",
   "metadata": {},
   "source": [
    "## Bag of word based benchmarks"
   ]
  },
  {
   "cell_type": "code",
   "execution_count": 63,
   "metadata": {},
   "outputs": [
    {
     "name": "stdout",
     "output_type": "stream",
     "text": [
      "Fitting:  LinearSVC tfidf\n",
      "{'C': 0.9, 'penalty': 'l2'}\n",
      "Test set, f1score:  0.8257966293049377\n",
      "CV f1score:  0.8073842416387459\n",
      "Fitting:  SVC skipgram\n",
      "{'C': 9, 'kernel': 'rbf', 'vec_params': {'workers': 19, 'vector_size': 256}}\n",
      "Test set, f1score:  0.8082793539040238\n",
      "CV f1score:  0.7906001307133474\n"
     ]
    }
   ],
   "source": [
    "params_list = []\n",
    "class_type = 'MLClassifier'\n",
    "\n",
    "#grid search number of folds\n",
    "nfolds_grid = 0\n",
    "\n",
    "#cross-validation of f1-score\n",
    "nfolds_cv = 0\n",
    "\n",
    "#Bag of word parameters\n",
    "vec_method = 'tfidf'\n",
    "params_list.append({'modality': 'text',\n",
    "                    'class': 'MLClassifier',\n",
    "                    'base_name': 'LogisticRegression', \n",
    "                    'vec_method': vec_method, \n",
    "                    'param_grid': {'C': [2], 'penalty': ['l2']},\n",
    "                    'nfolds_grid': nfolds_grid, 'nfolds_cv': nfolds_cv\n",
    "                   })\n",
    "params_list.append({'modality': 'text',\n",
    "                    'class': 'MLClassifier',\n",
    "                    'base_name': 'MultinomialNB', \n",
    "                    'vec_method': vec_method, \n",
    "                    'param_grid': {'alpha': [0.02], 'fit_prior': [True]},\n",
    "                    'nfolds_grid': nfolds_grid, 'nfolds_cv': nfolds_cv\n",
    "                    })\n",
    "params_list.append({'modality': 'text',\n",
    "                    'class': 'MLClassifier',\n",
    "                    'base_name': 'RandomForestClassifier', \n",
    "                    'vec_method': vec_method, \n",
    "                    'param_grid': {'n_estimators': [200], 'max_depth': [500]},\n",
    "                    'nfolds_grid': nfolds_grid, 'nfolds_cv': nfolds_cv\n",
    "                    })\n",
    "params_list.append({'modality': 'text',\n",
    "                    'class': 'MLClassifier',\n",
    "                    'base_name': 'xgboost', \n",
    "                    'vec_method': vec_method, \n",
    "                    'param_grid': {'n_estimators': [200], 'objective': ['multi:softprob'], 'max_depth':[6], 'reg_alpha':[0]},\n",
    "                    'nfolds_grid': nfolds_grid, 'nfolds_cv': nfolds_cv\n",
    "                    })\n",
    "params_list.append({'modality': 'text',\n",
    "                    'class': 'MLClassifier',\n",
    "                    'base_name': 'LinearSVC', \n",
    "                    'vec_method': vec_method, \n",
    "                    'param_grid': {'C': np.arange(0.5, 1.5, 0.1), 'penalty': ['l2']},\n",
    "                    'nfolds_grid': 5, 'nfolds_cv': 10\n",
    "                    })\n",
    "\n",
    "results = fit_save_all(params_list, result_file_name = 'results_benchmark_text.csv')\n"
   ]
  },
  {
   "cell_type": "markdown",
   "metadata": {},
   "source": [
    "## Best of BOW approaches"
   ]
  },
  {
   "cell_type": "code",
   "execution_count": null,
   "metadata": {},
   "outputs": [],
   "source": [
    "#Logistic regression on tfidf\n",
    "#Linear SVC on tfidf\n",
    "svc_bow_classifier = MLClassifier(base_name='LinearSVC', vec_method = 'tfidf', C=1, penalty='l2')\n",
    "svc_bow_classifier.fit(X_train, y_train);\n",
    "svc_bow_classifier.classification_score(X_test, y_test)\n",
    "svc_bow_classifier.cross_validate(X, y, cv=10)"
   ]
  },
  {
   "cell_type": "markdown",
   "metadata": {},
   "source": [
    "## Word2vec based benchmarks"
   ]
  },
  {
   "cell_type": "code",
   "execution_count": null,
   "metadata": {},
   "outputs": [],
   "source": [
    "params_list = []\n",
    "class_type = 'MLClassifier'\n",
    "\n",
    "#grid search number of folds\n",
    "nfolds_grid = 0\n",
    "\n",
    "#cross-validation of f1-score\n",
    "nfolds_cv = 0\n",
    "\n",
    "#Word2vec parameters\n",
    "vec_method = 'skipgram'\n",
    "vector_size = 500\n",
    "\n",
    "#List of parameters to batch over\n",
    "params_list.append({'modality': 'text',\n",
    "                    'class': 'MLClassifier', \n",
    "                    'base_name': 'LogisticRegression',\n",
    "                    'vec_method': vec_method,\n",
    "                    'param_grid': {'C': [10], 'penalty': 'l2',\n",
    "                                   'vec_params':[{'workers': num_cores-1, 'vector_size': vector_size}]},\n",
    "                    'nfolds_grid': nfolds_grid, 'nfolds_cv': nfolds_cv                    \n",
    "                    })\n",
    "params_list.append({'modality': 'text',\n",
    "                    'class': 'MLClassifier',\n",
    "                    'base_name': 'RandomForestClassifier', \n",
    "                    'vec_method': vec_method, \n",
    "                    'param_grid': {'n_estimators': [200], 'max_depth': [500],\n",
    "                                   'vec_params':[{'workers': num_cores-1, 'vector_size': vector_size}]},\n",
    "                    'nfolds_grid': nfolds_grid, 'nfolds_cv': nfolds_cv\n",
    "                    })\n",
    "params_list.append({'modality': 'text',\n",
    "                    'class': 'MLClassifier',\n",
    "                    'base_name': 'xgboost', \n",
    "                    'vec_method': vec_method, \n",
    "                    'param_grid': {'n_estimators': [200], 'objective': ['multi:softprob'], 'max_depth':[6], 'reg_alpha':[0],\n",
    "                                   'vec_params':[{'workers': num_cores-1, 'vector_size': vector_size}]},\n",
    "                    'nfolds_grid': nfolds_grid, 'nfolds_cv': nfolds_cv\n",
    "                    })\n",
    "params_list.append({'modality': 'text',\n",
    "                    'class': 'MLClassifier', \n",
    "                    'base_name': 'SVC',\n",
    "                    'vec_method': vec_method,\n",
    "                    'param_grid': {'C': [10], 'kernel': ['rbf'],\n",
    "                                   'vec_params':[{'workers': num_cores-1, 'vector_size': vector_size}]},\n",
    "                    'nfolds_grid': nfolds_grid, 'nfolds_cv': nfolds_cv\n",
    "                    })\n",
    "\n",
    "results = fit_save_all(params_list, result_file_name = 'results.csv')"
   ]
  },
  {
   "cell_type": "markdown",
   "metadata": {},
   "source": [
    "## Best of W2V approaches"
   ]
  },
  {
   "cell_type": "code",
   "execution_count": 70,
   "metadata": {},
   "outputs": [
    {
     "data": {
      "text/plain": [
       "0.7695062608525401"
      ]
     },
     "execution_count": 70,
     "metadata": {},
     "output_type": "execute_result"
    }
   ],
   "source": [
    "#SVC on tfidf\n",
    "svc_w2v_classifier = MLClassifier(base_name='SVC', C=10, kernel='rbf', vec_method = 'skipgram', vec_params={'workers': num_cores-1, 'vector_size': 512})\n",
    "svc_w2v_classifier.fit(X_train, y_train);\n",
    "svc_w2v_classifier.classification_score(X_test, y_test)\n",
    "svc_w2v_classifier.cross_validate(X, y, cv=10)\n",
    "svc_w2v_classifier.save('text/SVC_skipgram')"
   ]
  }
 ],
 "metadata": {
  "kernelspec": {
   "display_name": "Rakuten",
   "language": "python",
   "name": "python3"
  },
  "language_info": {
   "codemirror_mode": {
    "name": "ipython",
    "version": 3
   },
   "file_extension": ".py",
   "mimetype": "text/x-python",
   "name": "python",
   "nbconvert_exporter": "python",
   "pygments_lexer": "ipython3",
   "version": "3.11.7"
  }
 },
 "nbformat": 4,
 "nbformat_minor": 2
}
