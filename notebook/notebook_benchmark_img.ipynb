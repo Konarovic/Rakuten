{
 "cells": [
  {
   "cell_type": "code",
   "execution_count": 1,
   "metadata": {},
   "outputs": [
    {
     "name": "stderr",
     "output_type": "stream",
     "text": [
      "2024-03-11 22:32:33.277084: I tensorflow/core/util/port.cc:113] oneDNN custom operations are on. You may see slightly different numerical results due to floating-point round-off errors from different computation orders. To turn them off, set the environment variable `TF_ENABLE_ONEDNN_OPTS=0`.\n",
      "2024-03-11 22:32:33.322352: E external/local_xla/xla/stream_executor/cuda/cuda_dnn.cc:9261] Unable to register cuDNN factory: Attempting to register factory for plugin cuDNN when one has already been registered\n",
      "2024-03-11 22:32:33.322377: E external/local_xla/xla/stream_executor/cuda/cuda_fft.cc:607] Unable to register cuFFT factory: Attempting to register factory for plugin cuFFT when one has already been registered\n",
      "2024-03-11 22:32:33.323761: E external/local_xla/xla/stream_executor/cuda/cuda_blas.cc:1515] Unable to register cuBLAS factory: Attempting to register factory for plugin cuBLAS when one has already been registered\n",
      "2024-03-11 22:32:33.332210: I tensorflow/core/platform/cpu_feature_guard.cc:182] This TensorFlow binary is optimized to use available CPU instructions in performance-critical operations.\n",
      "To enable the following instructions: AVX2 AVX512F AVX512_VNNI FMA, in other operations, rebuild TensorFlow with the appropriate compiler flags.\n",
      "2024-03-11 22:32:34.097323: W tensorflow/compiler/tf2tensorrt/utils/py_utils.cc:38] TF-TRT Warning: Could not find TensorRT\n",
      "/home/jul/anaconda3/envs/Rakuten/lib/python3.11/site-packages/tqdm/auto.py:21: TqdmWarning:\n",
      "\n",
      "IProgress not found. Please update jupyter and ipywidgets. See https://ipywidgets.readthedocs.io/en/stable/user_install.html\n",
      "\n",
      "/home/jul/anaconda3/envs/Rakuten/lib/python3.11/site-packages/paramiko/transport.py:219: CryptographyDeprecationWarning:\n",
      "\n",
      "Blowfish has been deprecated\n",
      "\n",
      "/home/jul/anaconda3/envs/Rakuten/lib/python3.11/site-packages/tensorflow_addons/utils/tfa_eol_msg.py:23: UserWarning:\n",
      "\n",
      "\n",
      "\n",
      "TensorFlow Addons (TFA) has ended development and introduction of new features.\n",
      "TFA has entered a minimal maintenance and release mode until a planned end of life in May 2024.\n",
      "Please modify downstream libraries to take dependencies from other repositories in our TensorFlow community (e.g. Keras, Keras-CV, and Keras-NLP). \n",
      "\n",
      "For more information see: https://github.com/tensorflow/addons/issues/2807 \n",
      "\n",
      "\n"
     ]
    }
   ],
   "source": [
    "import os\n",
    "import sys\n",
    "\n",
    "#Import config file. Update config.py according to your environment\n",
    "import config\n",
    "\n",
    "import pandas as pd\n",
    "import numpy as np\n",
    "\n",
    "import tensorflow as tf\n",
    "\n",
    "from Rakuten_preprocessing import Rakuten_img_path\n",
    "\n",
    "from src.text.classifiers import TFbertClassifier\n",
    "from src.image.classifiers import ImgClassifier\n",
    "from src.multimodal.classifiers import TFmultiClassifier\n",
    "\n",
    "from src.utils.batch import fit_save_all\n",
    "from src.utils.plot import plot_training_history\n",
    "\n",
    "import datetime\n"
   ]
  },
  {
   "cell_type": "code",
   "execution_count": 2,
   "metadata": {},
   "outputs": [],
   "source": [
    "data_train = pd.read_csv(os.path.join(config.path_to_data, 'df_train_index.csv'))\n",
    "data_train['testset'] = False\n",
    "data_test = pd.read_csv(os.path.join(config.path_to_data, 'df_test_index.csv'))\n",
    "data_test['testset'] = True\n",
    "data = pd.concat([data_train, data_test], axis=0)\n",
    "\n",
    "#merging text into token column\n",
    "colnames = ['designation_translated', 'description_translated'] #['designation', 'description']#\n",
    "data['tokens'] = data[colnames].apply(lambda row: ' '.join(s.lower() for s in row if isinstance(s, str)), axis=1)\n",
    "\n",
    "#path to images into img_path column\n",
    "data['img_path'] = Rakuten_img_path(img_folder=config.path_to_images,\n",
    "                             imageid=data['imageid'], productid=data['productid'], suffix='_resized')\n"
   ]
  },
  {
   "cell_type": "code",
   "execution_count": 3,
   "metadata": {},
   "outputs": [],
   "source": [
    "#labels of encoded classes\n",
    "class_labels = data.groupby('prdtypedesignation')['prdtypeindex'].first().reset_index()\n",
    "class_labels.index = class_labels['prdtypeindex']\n",
    "class_labels = class_labels.drop(columns='prdtypeindex').sort_index()"
   ]
  },
  {
   "cell_type": "markdown",
   "metadata": {},
   "source": [
    "## Creating train and test sets"
   ]
  },
  {
   "cell_type": "code",
   "execution_count": 4,
   "metadata": {},
   "outputs": [],
   "source": [
    "Img_train = data.loc[~data['testset'], 'img_path']\n",
    "Img_test = data.loc[data['testset'], 'img_path']\n",
    "\n",
    "Txt_train = data.loc[~data['testset'], 'tokens']\n",
    "Txt_test = data.loc[data['testset'], 'tokens']\n",
    "\n",
    "y_train = data.loc[~data['testset'],'prdtypeindex']\n",
    "y_test = data.loc[data['testset'],'prdtypeindex']\n",
    "\n",
    "#To be fed into any of our sklearn classifiers, X_train and X_test\n",
    "#should be dataframes with columns tokens and img_path\n",
    "X_train = pd.DataFrame({'tokens': Txt_train, 'img_path': Img_train})\n",
    "X_test = pd.DataFrame({'tokens': Txt_test, 'img_path': Img_test})\n",
    "\n",
    "#All data for cross-validated scores\n",
    "X = pd.concat([X_train, X_test], axis=0)\n",
    "y = pd.concat([y_train, y_test], axis=0)\n",
    "\n",
    "#Number of classes\n",
    "num_classes = len(np.unique(data['prdtypeindex']))"
   ]
  },
  {
   "cell_type": "markdown",
   "metadata": {},
   "source": [
    "## CNN benchmarks"
   ]
  },
  {
   "cell_type": "code",
   "execution_count": 5,
   "metadata": {},
   "outputs": [
    {
     "name": "stdout",
     "output_type": "stream",
     "text": [
      "Fitting:  vit_b16 None\n"
     ]
    },
    {
     "name": "stderr",
     "output_type": "stream",
     "text": [
      "2024-03-11 22:33:04.610337: I external/local_xla/xla/stream_executor/cuda/cuda_executor.cc:887] could not open file to read NUMA node: /sys/bus/pci/devices/0000:17:00.0/numa_node\n",
      "Your kernel may have been built without NUMA support.\n",
      "2024-03-11 22:33:04.610750: I external/local_xla/xla/stream_executor/cuda/cuda_executor.cc:887] could not open file to read NUMA node: /sys/bus/pci/devices/0000:73:00.0/numa_node\n",
      "Your kernel may have been built without NUMA support.\n",
      "2024-03-11 22:33:04.684370: I external/local_xla/xla/stream_executor/cuda/cuda_executor.cc:887] could not open file to read NUMA node: /sys/bus/pci/devices/0000:17:00.0/numa_node\n",
      "Your kernel may have been built without NUMA support.\n",
      "2024-03-11 22:33:04.684463: I external/local_xla/xla/stream_executor/cuda/cuda_executor.cc:887] could not open file to read NUMA node: /sys/bus/pci/devices/0000:73:00.0/numa_node\n",
      "Your kernel may have been built without NUMA support.\n",
      "2024-03-11 22:33:04.684512: I external/local_xla/xla/stream_executor/cuda/cuda_executor.cc:887] could not open file to read NUMA node: /sys/bus/pci/devices/0000:17:00.0/numa_node\n",
      "Your kernel may have been built without NUMA support.\n",
      "2024-03-11 22:33:04.684558: I external/local_xla/xla/stream_executor/cuda/cuda_executor.cc:887] could not open file to read NUMA node: /sys/bus/pci/devices/0000:73:00.0/numa_node\n",
      "Your kernel may have been built without NUMA support.\n",
      "2024-03-11 22:33:05.770919: I external/local_xla/xla/stream_executor/cuda/cuda_executor.cc:887] could not open file to read NUMA node: /sys/bus/pci/devices/0000:17:00.0/numa_node\n",
      "Your kernel may have been built without NUMA support.\n",
      "2024-03-11 22:33:05.771035: I external/local_xla/xla/stream_executor/cuda/cuda_executor.cc:887] could not open file to read NUMA node: /sys/bus/pci/devices/0000:73:00.0/numa_node\n",
      "Your kernel may have been built without NUMA support.\n",
      "2024-03-11 22:33:05.771089: I external/local_xla/xla/stream_executor/cuda/cuda_executor.cc:887] could not open file to read NUMA node: /sys/bus/pci/devices/0000:17:00.0/numa_node\n",
      "Your kernel may have been built without NUMA support.\n",
      "2024-03-11 22:33:05.771136: I external/local_xla/xla/stream_executor/cuda/cuda_executor.cc:887] could not open file to read NUMA node: /sys/bus/pci/devices/0000:73:00.0/numa_node\n",
      "Your kernel may have been built without NUMA support.\n",
      "2024-03-11 22:33:05.771181: I external/local_xla/xla/stream_executor/cuda/cuda_executor.cc:887] could not open file to read NUMA node: /sys/bus/pci/devices/0000:17:00.0/numa_node\n",
      "Your kernel may have been built without NUMA support.\n",
      "2024-03-11 22:33:05.771225: I external/local_xla/xla/stream_executor/cuda/cuda_executor.cc:887] could not open file to read NUMA node: /sys/bus/pci/devices/0000:73:00.0/numa_node\n",
      "Your kernel may have been built without NUMA support.\n",
      "2024-03-11 22:33:08.096524: I external/local_xla/xla/stream_executor/cuda/cuda_executor.cc:887] could not open file to read NUMA node: /sys/bus/pci/devices/0000:17:00.0/numa_node\n",
      "Your kernel may have been built without NUMA support.\n",
      "2024-03-11 22:33:08.097138: I external/local_xla/xla/stream_executor/cuda/cuda_executor.cc:887] could not open file to read NUMA node: /sys/bus/pci/devices/0000:73:00.0/numa_node\n",
      "Your kernel may have been built without NUMA support.\n",
      "2024-03-11 22:33:08.097211: I external/local_xla/xla/stream_executor/cuda/cuda_executor.cc:887] could not open file to read NUMA node: /sys/bus/pci/devices/0000:17:00.0/numa_node\n",
      "Your kernel may have been built without NUMA support.\n",
      "2024-03-11 22:33:08.097221: I tensorflow/core/common_runtime/gpu/gpu_device.cc:2022] Could not identify NUMA node of platform GPU id 0, defaulting to 0.  Your kernel may not have been built with NUMA support.\n",
      "2024-03-11 22:33:08.097270: I external/local_xla/xla/stream_executor/cuda/cuda_executor.cc:887] could not open file to read NUMA node: /sys/bus/pci/devices/0000:73:00.0/numa_node\n",
      "Your kernel may have been built without NUMA support.\n",
      "2024-03-11 22:33:08.097276: I tensorflow/core/common_runtime/gpu/gpu_device.cc:2022] Could not identify NUMA node of platform GPU id 1, defaulting to 0.  Your kernel may not have been built with NUMA support.\n",
      "2024-03-11 22:33:08.097363: I external/local_xla/xla/stream_executor/cuda/cuda_executor.cc:887] could not open file to read NUMA node: /sys/bus/pci/devices/0000:17:00.0/numa_node\n",
      "Your kernel may have been built without NUMA support.\n",
      "2024-03-11 22:33:08.097391: I tensorflow/core/common_runtime/gpu/gpu_device.cc:1929] Created device /job:localhost/replica:0/task:0/device:GPU:0 with 21558 MB memory:  -> device: 0, name: NVIDIA RTX A5000, pci bus id: 0000:17:00.0, compute capability: 8.6\n",
      "2024-03-11 22:33:08.098152: I external/local_xla/xla/stream_executor/cuda/cuda_executor.cc:887] could not open file to read NUMA node: /sys/bus/pci/devices/0000:73:00.0/numa_node\n",
      "Your kernel may have been built without NUMA support.\n",
      "2024-03-11 22:33:08.098190: I tensorflow/core/common_runtime/gpu/gpu_device.cc:1929] Created device /job:localhost/replica:0/task:0/device:GPU:1 with 21558 MB memory:  -> device: 1, name: NVIDIA RTX A5000, pci bus id: 0000:73:00.0, compute capability: 8.6\n",
      "/home/jul/anaconda3/envs/Rakuten/lib/python3.11/site-packages/vit_keras/utils.py:81: UserWarning:\n",
      "\n",
      "Resizing position embeddings from 24, 24 to 14, 14\n",
      "\n"
     ]
    },
    {
     "name": "stdout",
     "output_type": "stream",
     "text": [
      "Found 16984 validated image filenames.\n",
      "Found 67932 validated image filenames.\n"
     ]
    },
    {
     "name": "stderr",
     "output_type": "stream",
     "text": [
      "2024-03-11 22:33:14.954019: I external/local_tsl/tsl/platform/default/subprocess.cc:304] Start cannot spawn child process: No such file or directory\n"
     ]
    },
    {
     "name": "stdout",
     "output_type": "stream",
     "text": [
      "Epoch 1/8\n"
     ]
    },
    {
     "name": "stderr",
     "output_type": "stream",
     "text": [
      "2024-03-11 22:33:42.305854: I external/local_xla/xla/stream_executor/cuda/cuda_dnn.cc:454] Loaded cuDNN version 8904\n",
      "2024-03-11 22:33:45.530853: I external/local_tsl/tsl/platform/default/subprocess.cc:304] Start cannot spawn child process: No such file or directory\n",
      "2024-03-11 22:33:48.164418: I external/local_xla/xla/service/service.cc:168] XLA service 0x703ac640 initialized for platform CUDA (this does not guarantee that XLA will be used). Devices:\n",
      "2024-03-11 22:33:48.164554: I external/local_xla/xla/service/service.cc:176]   StreamExecutor device (0): NVIDIA RTX A5000, Compute Capability 8.6\n",
      "2024-03-11 22:33:48.164587: I external/local_xla/xla/service/service.cc:176]   StreamExecutor device (1): NVIDIA RTX A5000, Compute Capability 8.6\n",
      "2024-03-11 22:33:48.181351: I tensorflow/compiler/mlir/tensorflow/utils/dump_mlir_util.cc:269] disabling MLIR crash reproducer, set env var `MLIR_CRASH_REPRODUCER_DIRECTORY` to enable.\n",
      "WARNING: All log messages before absl::InitializeLog() is called are written to STDERR\n",
      "I0000 00:00:1710192828.404423   38411 device_compiler.h:186] Compiled cluster using XLA!  This line is logged at most once for the lifetime of the process.\n"
     ]
    },
    {
     "name": "stdout",
     "output_type": "stream",
     "text": [
      "2123/2123 [==============================] - 1372s 622ms/step - loss: 2.1638 - accuracy: 0.4074 - val_loss: 1.4983 - val_accuracy: 0.5723 - lr: 5.0000e-05\n",
      "Epoch 2/8\n",
      "2123/2123 [==============================] - 1320s 621ms/step - loss: 1.4726 - accuracy: 0.5736 - val_loss: 1.3020 - val_accuracy: 0.6198 - lr: 4.0000e-05\n",
      "Epoch 3/8\n",
      "2123/2123 [==============================] - 1317s 620ms/step - loss: 1.2211 - accuracy: 0.6376 - val_loss: 1.2050 - val_accuracy: 0.6549 - lr: 3.2000e-05\n",
      "Epoch 4/8\n",
      "2123/2123 [==============================] - 1313s 618ms/step - loss: 1.0316 - accuracy: 0.6860 - val_loss: 1.1773 - val_accuracy: 0.6637 - lr: 2.5600e-05\n",
      "Epoch 5/8\n",
      "2123/2123 [==============================] - 1303s 613ms/step - loss: 0.8929 - accuracy: 0.7224 - val_loss: 1.1856 - val_accuracy: 0.6805 - lr: 2.0480e-05\n",
      "Epoch 6/8\n",
      "2123/2123 [==============================] - 1303s 613ms/step - loss: 0.7810 - accuracy: 0.7526 - val_loss: 1.2199 - val_accuracy: 0.6835 - lr: 1.6384e-05\n",
      "Epoch 7/8\n",
      "2123/2123 [==============================] - 1312s 618ms/step - loss: 0.6876 - accuracy: 0.7784 - val_loss: 1.2414 - val_accuracy: 0.6838 - lr: 1.3107e-05\n",
      "Epoch 8/8\n",
      "2123/2123 [==============================] - 1308s 616ms/step - loss: 0.6079 - accuracy: 0.8001 - val_loss: 1.2918 - val_accuracy: 0.6880 - lr: 1.0486e-05\n",
      "Found 16984 validated image filenames.\n",
      "531/531 [==============================] - 131s 240ms/step\n",
      "Test set, f1score:  0.6732662212401598\n",
      "Fitting:  ResNet101 None\n",
      "Found 16984 validated image filenames.\n",
      "Found 67932 validated image filenames.\n",
      "Epoch 1/8\n",
      "2123/2123 [==============================] - 929s 402ms/step - loss: 1.7281 - accuracy: 0.5059 - val_loss: 1.4014 - val_accuracy: 0.5833 - lr: 5.0000e-05\n",
      "Epoch 2/8\n",
      "2123/2123 [==============================] - 839s 395ms/step - loss: 1.2746 - accuracy: 0.6200 - val_loss: 1.2808 - val_accuracy: 0.6199 - lr: 4.0000e-05\n",
      "Epoch 3/8\n",
      "2123/2123 [==============================] - 840s 396ms/step - loss: 1.0471 - accuracy: 0.6812 - val_loss: 1.2295 - val_accuracy: 0.6411 - lr: 3.2000e-05\n",
      "Epoch 4/8\n",
      "2123/2123 [==============================] - 831s 391ms/step - loss: 0.8650 - accuracy: 0.7316 - val_loss: 1.1675 - val_accuracy: 0.6612 - lr: 2.5600e-05\n",
      "Epoch 5/8\n",
      "2123/2123 [==============================] - 829s 390ms/step - loss: 0.7026 - accuracy: 0.7781 - val_loss: 1.1960 - val_accuracy: 0.6626 - lr: 2.0480e-05\n",
      "Epoch 6/8\n",
      "2123/2123 [==============================] - 827s 389ms/step - loss: 0.5743 - accuracy: 0.8178 - val_loss: 1.2177 - val_accuracy: 0.6727 - lr: 1.6384e-05\n",
      "Epoch 7/8\n",
      "2123/2123 [==============================] - 820s 386ms/step - loss: 0.4611 - accuracy: 0.8519 - val_loss: 1.2975 - val_accuracy: 0.6666 - lr: 1.3107e-05\n",
      "Epoch 8/8\n",
      "2123/2123 [==============================] - ETA: 0s - loss: 0.3794 - accuracy: 0.8790Restoring model weights from the end of the best epoch: 6.\n",
      "2123/2123 [==============================] - 839s 395ms/step - loss: 0.3794 - accuracy: 0.8790 - val_loss: 1.3457 - val_accuracy: 0.6649 - lr: 1.0486e-05\n",
      "Epoch 8: early stopping\n",
      "Found 16984 validated image filenames.\n",
      "531/531 [==============================] - 57s 103ms/step\n",
      "Test set, f1score:  0.6564284303495009\n",
      "Fitting:  ResNet50 None\n",
      "Found 16984 validated image filenames.\n",
      "Found 67932 validated image filenames.\n",
      "Epoch 1/8\n",
      "2123/2123 [==============================] - 879s 400ms/step - loss: 1.7512 - accuracy: 0.4938 - val_loss: 1.4103 - val_accuracy: 0.5818 - lr: 5.0000e-05\n",
      "Epoch 2/8\n",
      "2123/2123 [==============================] - 839s 395ms/step - loss: 1.3018 - accuracy: 0.6113 - val_loss: 1.2926 - val_accuracy: 0.6190 - lr: 4.0000e-05\n",
      "Epoch 3/8\n",
      "2123/2123 [==============================] - 844s 397ms/step - loss: 1.0899 - accuracy: 0.6695 - val_loss: 1.2226 - val_accuracy: 0.6385 - lr: 3.2000e-05\n",
      "Epoch 4/8\n",
      "2123/2123 [==============================] - 829s 390ms/step - loss: 0.9229 - accuracy: 0.7156 - val_loss: 1.2117 - val_accuracy: 0.6485 - lr: 2.5600e-05\n",
      "Epoch 5/8\n",
      "2123/2123 [==============================] - 836s 393ms/step - loss: 0.7815 - accuracy: 0.7556 - val_loss: 1.2001 - val_accuracy: 0.6629 - lr: 2.0480e-05\n",
      "Epoch 6/8\n",
      "2123/2123 [==============================] - 824s 388ms/step - loss: 0.6606 - accuracy: 0.7920 - val_loss: 1.2169 - val_accuracy: 0.6675 - lr: 1.6384e-05\n",
      "Epoch 7/8\n",
      "2123/2123 [==============================] - 827s 390ms/step - loss: 0.5629 - accuracy: 0.8213 - val_loss: 1.2640 - val_accuracy: 0.6630 - lr: 1.3107e-05\n",
      "Epoch 8/8\n",
      "2123/2123 [==============================] - ETA: 0s - loss: 0.4824 - accuracy: 0.8452Restoring model weights from the end of the best epoch: 6.\n",
      "2123/2123 [==============================] - 842s 396ms/step - loss: 0.4824 - accuracy: 0.8452 - val_loss: 1.3050 - val_accuracy: 0.6655 - lr: 1.0486e-05\n",
      "Epoch 8: early stopping\n",
      "Found 16984 validated image filenames.\n",
      "531/531 [==============================] - 54s 100ms/step\n",
      "Test set, f1score:  0.6534625674550443\n",
      "Fitting:  EfficientNetB1 None\n",
      "Found 16984 validated image filenames.\n",
      "Found 67932 validated image filenames.\n",
      "Epoch 1/8\n"
     ]
    },
    {
     "name": "stderr",
     "output_type": "stream",
     "text": [
      "2024-03-12 05:18:33.910357: E tensorflow/core/grappler/optimizers/meta_optimizer.cc:961] layout failed: INVALID_ARGUMENT: Size of values 0 does not match size of permutation 4 @ fanin shape inmodel_4/img_base_layers/block1b_drop/dropout/SelectV2-2-TransposeNHWCToNCHW-LayoutOptimizer\n"
     ]
    },
    {
     "name": "stdout",
     "output_type": "stream",
     "text": [
      "2123/2123 [==============================] - 885s 389ms/step - loss: 2.0103 - accuracy: 0.4308 - val_loss: 1.4608 - val_accuracy: 0.5751 - lr: 5.0000e-05\n",
      "Epoch 2/8\n",
      "2123/2123 [==============================] - 819s 386ms/step - loss: 1.4682 - accuracy: 0.5671 - val_loss: 1.2874 - val_accuracy: 0.6169 - lr: 4.0000e-05\n",
      "Epoch 3/8\n",
      "2123/2123 [==============================] - 813s 383ms/step - loss: 1.3140 - accuracy: 0.6063 - val_loss: 1.2149 - val_accuracy: 0.6352 - lr: 3.2000e-05\n",
      "Epoch 4/8\n",
      "2123/2123 [==============================] - 820s 386ms/step - loss: 1.2105 - accuracy: 0.6362 - val_loss: 1.1734 - val_accuracy: 0.6483 - lr: 2.5600e-05\n",
      "Epoch 5/8\n",
      "2123/2123 [==============================] - 877s 413ms/step - loss: 1.1388 - accuracy: 0.6540 - val_loss: 1.1474 - val_accuracy: 0.6561 - lr: 2.0480e-05\n",
      "Epoch 6/8\n",
      "2123/2123 [==============================] - 826s 389ms/step - loss: 1.0830 - accuracy: 0.6686 - val_loss: 1.1347 - val_accuracy: 0.6593 - lr: 1.6384e-05\n",
      "Epoch 7/8\n",
      "2123/2123 [==============================] - 803s 378ms/step - loss: 1.0454 - accuracy: 0.6802 - val_loss: 1.1243 - val_accuracy: 0.6643 - lr: 1.3107e-05\n",
      "Epoch 8/8\n",
      "2123/2123 [==============================] - 813s 383ms/step - loss: 1.0147 - accuracy: 0.6875 - val_loss: 1.1172 - val_accuracy: 0.6685 - lr: 1.0486e-05\n",
      "Found 16984 validated image filenames.\n",
      "531/531 [==============================] - 56s 102ms/step\n",
      "Test set, f1score:  0.6553499429936872\n",
      "Fitting:  vit_b16 None\n"
     ]
    },
    {
     "name": "stderr",
     "output_type": "stream",
     "text": [
      "/home/jul/anaconda3/envs/Rakuten/lib/python3.11/site-packages/vit_keras/utils.py:81: UserWarning:\n",
      "\n",
      "Resizing position embeddings from 24, 24 to 14, 14\n",
      "\n"
     ]
    },
    {
     "name": "stdout",
     "output_type": "stream",
     "text": [
      "Found 16984 validated image filenames.\n",
      "Found 67932 validated image filenames.\n",
      "Epoch 1/8\n",
      "2123/2123 [==============================] - 1354s 619ms/step - loss: 2.2085 - accuracy: 0.3938 - val_loss: 1.5258 - val_accuracy: 0.5598 - lr: 5.0000e-05\n",
      "Epoch 2/8\n",
      "2123/2123 [==============================] - 1312s 618ms/step - loss: 1.4905 - accuracy: 0.5672 - val_loss: 1.3084 - val_accuracy: 0.6225 - lr: 4.0000e-05\n",
      "Epoch 3/8\n",
      "2123/2123 [==============================] - 1314s 618ms/step - loss: 1.2368 - accuracy: 0.6332 - val_loss: 1.1954 - val_accuracy: 0.6508 - lr: 3.2000e-05\n",
      "Epoch 4/8\n",
      "2123/2123 [==============================] - 1329s 626ms/step - loss: 1.0482 - accuracy: 0.6805 - val_loss: 1.2004 - val_accuracy: 0.6607 - lr: 2.5600e-05\n",
      "Epoch 5/8\n",
      "2123/2123 [==============================] - 1312s 618ms/step - loss: 0.9128 - accuracy: 0.7166 - val_loss: 1.2138 - val_accuracy: 0.6738 - lr: 2.0480e-05\n",
      "Epoch 6/8\n",
      "2123/2123 [==============================] - 1310s 617ms/step - loss: 0.7927 - accuracy: 0.7492 - val_loss: 1.2008 - val_accuracy: 0.6802 - lr: 1.6384e-05\n",
      "Epoch 7/8\n",
      "2123/2123 [==============================] - 1325s 624ms/step - loss: 0.7035 - accuracy: 0.7739 - val_loss: 1.2364 - val_accuracy: 0.6828 - lr: 1.3107e-05\n",
      "Epoch 8/8\n",
      "2123/2123 [==============================] - 1316s 620ms/step - loss: 0.6286 - accuracy: 0.7965 - val_loss: 1.2558 - val_accuracy: 0.6854 - lr: 1.0486e-05\n",
      "Found 16984 validated image filenames.\n",
      "531/531 [==============================] - 135s 247ms/step\n",
      "Test set, f1score:  0.6748812097109875\n",
      "Fitting:  ResNet152 None\n",
      "Found 16984 validated image filenames.\n",
      "Found 67932 validated image filenames.\n",
      "Epoch 1/8\n",
      "2123/2123 [==============================] - 954s 403ms/step - loss: 1.7309 - accuracy: 0.5036 - val_loss: 1.3902 - val_accuracy: 0.5888 - lr: 5.0000e-05\n",
      "Epoch 2/8\n",
      "2123/2123 [==============================] - 836s 394ms/step - loss: 1.2841 - accuracy: 0.6173 - val_loss: 1.2781 - val_accuracy: 0.6195 - lr: 4.0000e-05\n",
      "Epoch 3/8\n",
      "2123/2123 [==============================] - 841s 396ms/step - loss: 1.0576 - accuracy: 0.6795 - val_loss: 1.2024 - val_accuracy: 0.6472 - lr: 3.2000e-05\n",
      "Epoch 4/8\n",
      "2123/2123 [==============================] - 840s 395ms/step - loss: 0.8655 - accuracy: 0.7332 - val_loss: 1.1782 - val_accuracy: 0.6590 - lr: 2.5600e-05\n",
      "Epoch 5/8\n",
      "2123/2123 [==============================] - 838s 395ms/step - loss: 0.6982 - accuracy: 0.7811 - val_loss: 1.1869 - val_accuracy: 0.6706 - lr: 2.0480e-05\n",
      "Epoch 6/8\n",
      "2123/2123 [==============================] - 851s 401ms/step - loss: 0.5611 - accuracy: 0.8202 - val_loss: 1.2221 - val_accuracy: 0.6717 - lr: 1.6384e-05\n",
      "Epoch 7/8\n",
      "2123/2123 [==============================] - 886s 417ms/step - loss: 0.4506 - accuracy: 0.8560 - val_loss: 1.2866 - val_accuracy: 0.6755 - lr: 1.3107e-05\n",
      "Epoch 8/8\n",
      "2123/2123 [==============================] - 847s 399ms/step - loss: 0.3692 - accuracy: 0.8818 - val_loss: 1.3340 - val_accuracy: 0.6692 - lr: 1.0486e-05\n",
      "Found 16984 validated image filenames.\n",
      "531/531 [==============================] - 58s 104ms/step\n",
      "Test set, f1score:  0.6578038303426029\n"
     ]
    }
   ],
   "source": [
    "#Name of the summary csv file to save results to\n",
    "result_file_name = 'results_benchmark_img.csv'\n",
    "\n",
    "#type of modality\n",
    "modality = 'image'\n",
    "\n",
    "#Type of classifier\n",
    "class_type = 'ImgClassifier'\n",
    "\n",
    "#training parameters (or list of parameters for gridsearchCV)\n",
    "num_class = 27\n",
    "img_size = (224, 224, 3)\n",
    "n_epochs = 8\n",
    "batch_size = 32\n",
    "drop_rate = 0.2\n",
    "lr0 = 5e-5\n",
    "lr_min = 1e-6\n",
    "lr_decay_rate = 0.8\n",
    "\n",
    "#defining callbacks\n",
    "callbacks = []\n",
    "#adding earlystopping callback\n",
    "callbacks.append(('EarlyStopping', {'monitor': 'val_accuracy', 'min_delta': 0, 'mode': 'max', 'patience': 2, 'restore_best_weights': True, 'verbose': 1}))\n",
    "#Adding tensorboard callback as the last one\n",
    "callbacks.append(('TensorBoard', {'log_dir': np.nan, 'histogram_freq': 1, 'update_freq': 'epoch'}))\n",
    "\n",
    "#grid search number of folds\n",
    "nfolds_grid = 0\n",
    "\n",
    "#cross-validation of f1-score\n",
    "nfolds_cv = 0\n",
    "\n",
    "#network to test\n",
    "base_name_list = ['vit_b16', 'ResNet101', 'ResNet50', 'EfficientNetB1', 'vit_b16', 'ResNet152']\n",
    "\n",
    "#Initializing the list of parameters to batch over\n",
    "params_list = []\n",
    "\n",
    "for base_name in base_name_list:\n",
    "  #Adjusting tensorboard log directory\n",
    "  log_dir = os.path.join(config.path_to_tflogs, base_name, datetime.datetime.now().strftime(\"%Y%m%d-%H%M%S\"))\n",
    "  callbacks[-1][1]['log_dir'] = log_dir\n",
    "  #adding the set of parameters to the list\n",
    "  params_list.append({'modality': modality,\n",
    "                      'class': class_type,\n",
    "                      'base_name': base_name, \n",
    "                      'param_grid': {'img_size': img_size, 'num_class': num_class, 'drop_rate': drop_rate, \n",
    "                                    'epochs': n_epochs, 'batch_size': batch_size, \n",
    "                                    'learning_rate':lr0, 'lr_decay_rate': lr_decay_rate, 'lr_min': lr_min,\n",
    "                                    'validation_data': (X_test, y_test), 'callbacks': [callbacks], 'parallel_gpu': False},\n",
    "                      'nfolds_grid': nfolds_grid, 'nfolds_cv': nfolds_cv\n",
    "                    })\n",
    "\n",
    "#Running the batch over params_list\n",
    "results = fit_save_all(params_list, X_train=X_train, y_train=y_train, X_test=X_test, y_test=y_test, result_file_name = result_file_name)"
   ]
  },
  {
   "cell_type": "markdown",
   "metadata": {},
   "source": [
    "## Fetch and check the saved result file"
   ]
  },
  {
   "cell_type": "code",
   "execution_count": 6,
   "metadata": {},
   "outputs": [
    {
     "data": {
      "text/html": [
       "<div>\n",
       "<style scoped>\n",
       "    .dataframe tbody tr th:only-of-type {\n",
       "        vertical-align: middle;\n",
       "    }\n",
       "\n",
       "    .dataframe tbody tr th {\n",
       "        vertical-align: top;\n",
       "    }\n",
       "\n",
       "    .dataframe thead th {\n",
       "        text-align: right;\n",
       "    }\n",
       "</style>\n",
       "<table border=\"1\" class=\"dataframe\">\n",
       "  <thead>\n",
       "    <tr style=\"text-align: right;\">\n",
       "      <th></th>\n",
       "      <th>modality</th>\n",
       "      <th>class</th>\n",
       "      <th>vectorization</th>\n",
       "      <th>classifier</th>\n",
       "      <th>tested_params</th>\n",
       "      <th>best_params</th>\n",
       "      <th>score_test</th>\n",
       "      <th>score_cv_test</th>\n",
       "      <th>score_cv_train</th>\n",
       "      <th>fit_cv_time</th>\n",
       "      <th>model_path</th>\n",
       "    </tr>\n",
       "  </thead>\n",
       "  <tbody>\n",
       "    <tr>\n",
       "      <th>0</th>\n",
       "      <td>image</td>\n",
       "      <td>ImgClassifier</td>\n",
       "      <td>NaN</td>\n",
       "      <td>VGG16</td>\n",
       "      <td>{'img_size': [(224, 224, 3)], 'num_class': [27...</td>\n",
       "      <td>NaN</td>\n",
       "      <td>0.443956</td>\n",
       "      <td>NaN</td>\n",
       "      <td>NaN</td>\n",
       "      <td>NaN</td>\n",
       "      <td>image/VGG16</td>\n",
       "    </tr>\n",
       "  </tbody>\n",
       "</table>\n",
       "</div>"
      ],
      "text/plain": [
       "  modality          class  vectorization classifier  \\\n",
       "0    image  ImgClassifier            NaN      VGG16   \n",
       "\n",
       "                                       tested_params  best_params  score_test  \\\n",
       "0  {'img_size': [(224, 224, 3)], 'num_class': [27...          NaN    0.443956   \n",
       "\n",
       "   score_cv_test  score_cv_train  fit_cv_time   model_path  \n",
       "0            NaN             NaN          NaN  image/VGG16  "
      ]
     },
     "execution_count": 6,
     "metadata": {},
     "output_type": "execute_result"
    }
   ],
   "source": [
    "results = pd.read_csv(os.path.join(config.path_to_results, result_file_name), index_col=0)\n",
    "results.head()"
   ]
  },
  {
   "cell_type": "markdown",
   "metadata": {},
   "source": [
    "## Visualize tensorflow logs in tensorboard"
   ]
  },
  {
   "cell_type": "code",
   "execution_count": 8,
   "metadata": {},
   "outputs": [
    {
     "data": {
      "text/plain": [
       "Reusing TensorBoard on port 6006 (pid 3045096), started 0:00:04 ago. (Use '!kill 3045096' to kill it.)"
      ]
     },
     "metadata": {},
     "output_type": "display_data"
    },
    {
     "data": {
      "text/html": [
       "\n",
       "      <iframe id=\"tensorboard-frame-35f84bb2050e3078\" width=\"100%\" height=\"800\" frameborder=\"0\">\n",
       "      </iframe>\n",
       "      <script>\n",
       "        (function() {\n",
       "          const frame = document.getElementById(\"tensorboard-frame-35f84bb2050e3078\");\n",
       "          const url = new URL(\"http://localhost\");\n",
       "          const port = 6006;\n",
       "          if (port) {\n",
       "            url.port = port;\n",
       "          }\n",
       "          frame.src = url;\n",
       "        })();\n",
       "      </script>\n",
       "    "
      ],
      "text/plain": [
       "<IPython.core.display.HTML object>"
      ]
     },
     "metadata": {},
     "output_type": "display_data"
    }
   ],
   "source": [
    "log_path = os.path.join(config.path_to_tflogs, 'VGG16')\n",
    "\n",
    "# Ensure the log_path is quoted to handle spaces\n",
    "quoted_log_path = f'\"{log_path}\"'\n",
    "\n",
    "%reload_ext tensorboard\n",
    "%tensorboard --logdir {quoted_log_path}"
   ]
  },
  {
   "cell_type": "markdown",
   "metadata": {},
   "source": [
    "## Example usage"
   ]
  },
  {
   "cell_type": "code",
   "execution_count": 5,
   "metadata": {},
   "outputs": [
    {
     "name": "stdout",
     "output_type": "stream",
     "text": [
      "INFO:tensorflow:Using MirroredStrategy with devices ('/job:localhost/replica:0/task:0/device:GPU:0', '/job:localhost/replica:0/task:0/device:GPU:1')\n"
     ]
    },
    {
     "name": "stderr",
     "output_type": "stream",
     "text": [
      "2024-03-10 13:07:20.850430: I external/local_xla/xla/stream_executor/cuda/cuda_executor.cc:887] could not open file to read NUMA node: /sys/bus/pci/devices/0000:17:00.0/numa_node\n",
      "Your kernel may have been built without NUMA support.\n",
      "2024-03-10 13:07:20.850632: I external/local_xla/xla/stream_executor/cuda/cuda_executor.cc:887] could not open file to read NUMA node: /sys/bus/pci/devices/0000:73:00.0/numa_node\n",
      "Your kernel may have been built without NUMA support.\n",
      "2024-03-10 13:07:20.948389: I external/local_xla/xla/stream_executor/cuda/cuda_executor.cc:887] could not open file to read NUMA node: /sys/bus/pci/devices/0000:17:00.0/numa_node\n",
      "Your kernel may have been built without NUMA support.\n",
      "2024-03-10 13:07:20.948489: I external/local_xla/xla/stream_executor/cuda/cuda_executor.cc:887] could not open file to read NUMA node: /sys/bus/pci/devices/0000:73:00.0/numa_node\n",
      "Your kernel may have been built without NUMA support.\n",
      "2024-03-10 13:07:20.948545: I external/local_xla/xla/stream_executor/cuda/cuda_executor.cc:887] could not open file to read NUMA node: /sys/bus/pci/devices/0000:17:00.0/numa_node\n",
      "Your kernel may have been built without NUMA support.\n",
      "2024-03-10 13:07:20.948600: I external/local_xla/xla/stream_executor/cuda/cuda_executor.cc:887] could not open file to read NUMA node: /sys/bus/pci/devices/0000:73:00.0/numa_node\n",
      "Your kernel may have been built without NUMA support.\n",
      "2024-03-10 13:07:21.856774: I external/local_xla/xla/stream_executor/cuda/cuda_executor.cc:887] could not open file to read NUMA node: /sys/bus/pci/devices/0000:17:00.0/numa_node\n",
      "Your kernel may have been built without NUMA support.\n",
      "2024-03-10 13:07:21.856890: I external/local_xla/xla/stream_executor/cuda/cuda_executor.cc:887] could not open file to read NUMA node: /sys/bus/pci/devices/0000:73:00.0/numa_node\n",
      "Your kernel may have been built without NUMA support.\n",
      "2024-03-10 13:07:21.856948: I external/local_xla/xla/stream_executor/cuda/cuda_executor.cc:887] could not open file to read NUMA node: /sys/bus/pci/devices/0000:17:00.0/numa_node\n",
      "Your kernel may have been built without NUMA support.\n",
      "2024-03-10 13:07:21.857000: I external/local_xla/xla/stream_executor/cuda/cuda_executor.cc:887] could not open file to read NUMA node: /sys/bus/pci/devices/0000:73:00.0/numa_node\n",
      "Your kernel may have been built without NUMA support.\n",
      "2024-03-10 13:07:21.857048: I external/local_xla/xla/stream_executor/cuda/cuda_executor.cc:887] could not open file to read NUMA node: /sys/bus/pci/devices/0000:17:00.0/numa_node\n",
      "Your kernel may have been built without NUMA support.\n",
      "2024-03-10 13:07:21.857097: I external/local_xla/xla/stream_executor/cuda/cuda_executor.cc:887] could not open file to read NUMA node: /sys/bus/pci/devices/0000:73:00.0/numa_node\n",
      "Your kernel may have been built without NUMA support.\n",
      "2024-03-10 13:07:24.348939: I external/local_xla/xla/stream_executor/cuda/cuda_executor.cc:887] could not open file to read NUMA node: /sys/bus/pci/devices/0000:17:00.0/numa_node\n",
      "Your kernel may have been built without NUMA support.\n",
      "2024-03-10 13:07:24.349407: I external/local_xla/xla/stream_executor/cuda/cuda_executor.cc:887] could not open file to read NUMA node: /sys/bus/pci/devices/0000:73:00.0/numa_node\n",
      "Your kernel may have been built without NUMA support.\n",
      "2024-03-10 13:07:24.349486: I external/local_xla/xla/stream_executor/cuda/cuda_executor.cc:887] could not open file to read NUMA node: /sys/bus/pci/devices/0000:17:00.0/numa_node\n",
      "Your kernel may have been built without NUMA support.\n",
      "2024-03-10 13:07:24.349496: I tensorflow/core/common_runtime/gpu/gpu_device.cc:2022] Could not identify NUMA node of platform GPU id 0, defaulting to 0.  Your kernel may not have been built with NUMA support.\n",
      "2024-03-10 13:07:24.349544: I external/local_xla/xla/stream_executor/cuda/cuda_executor.cc:887] could not open file to read NUMA node: /sys/bus/pci/devices/0000:73:00.0/numa_node\n",
      "Your kernel may have been built without NUMA support.\n",
      "2024-03-10 13:07:24.349550: I tensorflow/core/common_runtime/gpu/gpu_device.cc:2022] Could not identify NUMA node of platform GPU id 1, defaulting to 0.  Your kernel may not have been built with NUMA support.\n",
      "2024-03-10 13:07:24.349628: I external/local_xla/xla/stream_executor/cuda/cuda_executor.cc:887] could not open file to read NUMA node: /sys/bus/pci/devices/0000:17:00.0/numa_node\n",
      "Your kernel may have been built without NUMA support.\n",
      "2024-03-10 13:07:24.349681: I tensorflow/core/common_runtime/gpu/gpu_device.cc:1929] Created device /job:localhost/replica:0/task:0/device:GPU:0 with 21558 MB memory:  -> device: 0, name: NVIDIA RTX A5000, pci bus id: 0000:17:00.0, compute capability: 8.6\n",
      "2024-03-10 13:07:24.351034: I external/local_xla/xla/stream_executor/cuda/cuda_executor.cc:887] could not open file to read NUMA node: /sys/bus/pci/devices/0000:73:00.0/numa_node\n",
      "Your kernel may have been built without NUMA support.\n",
      "2024-03-10 13:07:24.351069: I tensorflow/core/common_runtime/gpu/gpu_device.cc:1929] Created device /job:localhost/replica:0/task:0/device:GPU:1 with 21558 MB memory:  -> device: 1, name: NVIDIA RTX A5000, pci bus id: 0000:73:00.0, compute capability: 8.6\n"
     ]
    },
    {
     "name": "stdout",
     "output_type": "stream",
     "text": [
      "INFO:tensorflow:Reduce to /job:localhost/replica:0/task:0/device:CPU:0 then broadcast to ('/job:localhost/replica:0/task:0/device:CPU:0',).\n",
      "INFO:tensorflow:Reduce to /job:localhost/replica:0/task:0/device:CPU:0 then broadcast to ('/job:localhost/replica:0/task:0/device:CPU:0',).\n",
      "INFO:tensorflow:Reduce to /job:localhost/replica:0/task:0/device:CPU:0 then broadcast to ('/job:localhost/replica:0/task:0/device:CPU:0',).\n",
      "INFO:tensorflow:Reduce to /job:localhost/replica:0/task:0/device:CPU:0 then broadcast to ('/job:localhost/replica:0/task:0/device:CPU:0',).\n",
      "INFO:tensorflow:Reduce to /job:localhost/replica:0/task:0/device:CPU:0 then broadcast to ('/job:localhost/replica:0/task:0/device:CPU:0',).\n",
      "INFO:tensorflow:Reduce to /job:localhost/replica:0/task:0/device:CPU:0 then broadcast to ('/job:localhost/replica:0/task:0/device:CPU:0',).\n",
      "INFO:tensorflow:Reduce to /job:localhost/replica:0/task:0/device:CPU:0 then broadcast to ('/job:localhost/replica:0/task:0/device:CPU:0',).\n",
      "INFO:tensorflow:Reduce to /job:localhost/replica:0/task:0/device:CPU:0 then broadcast to ('/job:localhost/replica:0/task:0/device:CPU:0',).\n",
      "INFO:tensorflow:Reduce to /job:localhost/replica:0/task:0/device:CPU:0 then broadcast to ('/job:localhost/replica:0/task:0/device:CPU:0',).\n",
      "INFO:tensorflow:Reduce to /job:localhost/replica:0/task:0/device:CPU:0 then broadcast to ('/job:localhost/replica:0/task:0/device:CPU:0',).\n"
     ]
    }
   ],
   "source": [
    "#defining callbacks\n",
    "callbacks = []\n",
    "def lrscheduler(epoch, lr):\n",
    "  return max(1e-6, lr * 0.8)\n",
    "callbacks.append(('LearningRateScheduler', {'schedule': lrscheduler}))\n",
    "callbacks.append(('EarlyStopping', {'monitor': 'val_accuracy', 'min_delta': 0, 'mode': 'max', 'patience': 2, 'restore_best_weights': True, 'verbose': 1, }))\n",
    "\n",
    "clf = ImgClassifier(base_name='ResNet101', img_size=(224, 224, 3), num_class=27, drop_rate=0.2, epochs=5, batch_size=32, \n",
    "                    validation_data=(X_test, y_test), learning_rate=5e-5, callbacks=callbacks)\n",
    "\n",
    "clf.fit(X_train, y_train)\n",
    "clf.classification_score(X_test, y_test)"
   ]
  }
 ],
 "metadata": {
  "kernelspec": {
   "display_name": "Rakuten",
   "language": "python",
   "name": "python3"
  },
  "language_info": {
   "codemirror_mode": {
    "name": "ipython",
    "version": 3
   },
   "file_extension": ".py",
   "mimetype": "text/x-python",
   "name": "python",
   "nbconvert_exporter": "python",
   "pygments_lexer": "ipython3",
   "version": "3.11.7"
  }
 },
 "nbformat": 4,
 "nbformat_minor": 2
}
